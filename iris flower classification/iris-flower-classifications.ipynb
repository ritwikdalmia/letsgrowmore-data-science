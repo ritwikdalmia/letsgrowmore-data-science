{
 "cells": [
  {
   "cell_type": "markdown",
   "id": "6b9d5073",
   "metadata": {
    "execution": {
     "iopub.execute_input": "2022-06-18T19:03:45.463668Z",
     "iopub.status.busy": "2022-06-18T19:03:45.463232Z",
     "iopub.status.idle": "2022-06-18T19:03:45.469908Z",
     "shell.execute_reply": "2022-06-18T19:03:45.468611Z",
     "shell.execute_reply.started": "2022-06-18T19:03:45.463631Z"
    },
    "papermill": {
     "duration": 0.018106,
     "end_time": "2022-06-20T19:08:22.017201",
     "exception": false,
     "start_time": "2022-06-20T19:08:21.999095",
     "status": "completed"
    },
    "tags": []
   },
   "source": [
    "**DECLARING IMPORT FUNCTIONS FOR THE DATA ANALYIS**"
   ]
  },
  {
   "cell_type": "code",
   "execution_count": 1,
   "id": "f565a4c9",
   "metadata": {
    "execution": {
     "iopub.execute_input": "2022-06-20T19:08:22.053539Z",
     "iopub.status.busy": "2022-06-20T19:08:22.053151Z",
     "iopub.status.idle": "2022-06-20T19:08:23.107791Z",
     "shell.execute_reply": "2022-06-20T19:08:23.106949Z"
    },
    "papermill": {
     "duration": 1.075024,
     "end_time": "2022-06-20T19:08:23.110406",
     "exception": false,
     "start_time": "2022-06-20T19:08:22.035382",
     "status": "completed"
    },
    "tags": []
   },
   "outputs": [],
   "source": [
    "import pandas as pd\n",
    "import numpy as np\n",
    "import scipy.stats as st\n",
    "import os\n",
    "import matplotlib.pyplot as plt\n",
    "import seaborn as sns\n"
   ]
  },
  {
   "cell_type": "code",
   "execution_count": 2,
   "id": "457bb15c",
   "metadata": {
    "execution": {
     "iopub.execute_input": "2022-06-20T19:08:23.167925Z",
     "iopub.status.busy": "2022-06-20T19:08:23.167395Z",
     "iopub.status.idle": "2022-06-20T19:08:23.183753Z",
     "shell.execute_reply": "2022-06-20T19:08:23.183073Z"
    },
    "papermill": {
     "duration": 0.04731,
     "end_time": "2022-06-20T19:08:23.185912",
     "exception": false,
     "start_time": "2022-06-20T19:08:23.138602",
     "status": "completed"
    },
    "tags": []
   },
   "outputs": [],
   "source": [
    "dataset_read=pd.read_csv('../input/iris-flower/iris.csv')"
   ]
  },
  {
   "cell_type": "code",
   "execution_count": 3,
   "id": "c30d33e8",
   "metadata": {
    "execution": {
     "iopub.execute_input": "2022-06-20T19:08:23.244394Z",
     "iopub.status.busy": "2022-06-20T19:08:23.243542Z",
     "iopub.status.idle": "2022-06-20T19:08:23.269820Z",
     "shell.execute_reply": "2022-06-20T19:08:23.269062Z"
    },
    "papermill": {
     "duration": 0.057465,
     "end_time": "2022-06-20T19:08:23.272051",
     "exception": false,
     "start_time": "2022-06-20T19:08:23.214586",
     "status": "completed"
    },
    "tags": []
   },
   "outputs": [
    {
     "data": {
      "text/html": [
       "<div>\n",
       "<style scoped>\n",
       "    .dataframe tbody tr th:only-of-type {\n",
       "        vertical-align: middle;\n",
       "    }\n",
       "\n",
       "    .dataframe tbody tr th {\n",
       "        vertical-align: top;\n",
       "    }\n",
       "\n",
       "    .dataframe thead th {\n",
       "        text-align: right;\n",
       "    }\n",
       "</style>\n",
       "<table border=\"1\" class=\"dataframe\">\n",
       "  <thead>\n",
       "    <tr style=\"text-align: right;\">\n",
       "      <th></th>\n",
       "      <th>sepal length in cm</th>\n",
       "      <th>sepal width in cm</th>\n",
       "      <th>petal length in cm</th>\n",
       "      <th>petal width in cm</th>\n",
       "      <th>class</th>\n",
       "    </tr>\n",
       "  </thead>\n",
       "  <tbody>\n",
       "    <tr>\n",
       "      <th>0</th>\n",
       "      <td>5.1</td>\n",
       "      <td>3.5</td>\n",
       "      <td>1.4</td>\n",
       "      <td>0.2</td>\n",
       "      <td>Iris-setosa</td>\n",
       "    </tr>\n",
       "    <tr>\n",
       "      <th>1</th>\n",
       "      <td>4.9</td>\n",
       "      <td>3.0</td>\n",
       "      <td>1.4</td>\n",
       "      <td>0.2</td>\n",
       "      <td>Iris-setosa</td>\n",
       "    </tr>\n",
       "    <tr>\n",
       "      <th>2</th>\n",
       "      <td>4.7</td>\n",
       "      <td>3.2</td>\n",
       "      <td>1.3</td>\n",
       "      <td>0.2</td>\n",
       "      <td>Iris-setosa</td>\n",
       "    </tr>\n",
       "    <tr>\n",
       "      <th>3</th>\n",
       "      <td>4.6</td>\n",
       "      <td>3.1</td>\n",
       "      <td>1.5</td>\n",
       "      <td>0.2</td>\n",
       "      <td>Iris-setosa</td>\n",
       "    </tr>\n",
       "    <tr>\n",
       "      <th>4</th>\n",
       "      <td>5.0</td>\n",
       "      <td>3.6</td>\n",
       "      <td>1.4</td>\n",
       "      <td>0.2</td>\n",
       "      <td>Iris-setosa</td>\n",
       "    </tr>\n",
       "    <tr>\n",
       "      <th>...</th>\n",
       "      <td>...</td>\n",
       "      <td>...</td>\n",
       "      <td>...</td>\n",
       "      <td>...</td>\n",
       "      <td>...</td>\n",
       "    </tr>\n",
       "    <tr>\n",
       "      <th>145</th>\n",
       "      <td>6.7</td>\n",
       "      <td>3.0</td>\n",
       "      <td>5.2</td>\n",
       "      <td>2.3</td>\n",
       "      <td>Iris-virginica</td>\n",
       "    </tr>\n",
       "    <tr>\n",
       "      <th>146</th>\n",
       "      <td>6.3</td>\n",
       "      <td>2.5</td>\n",
       "      <td>5.0</td>\n",
       "      <td>1.9</td>\n",
       "      <td>Iris-virginica</td>\n",
       "    </tr>\n",
       "    <tr>\n",
       "      <th>147</th>\n",
       "      <td>6.5</td>\n",
       "      <td>3.0</td>\n",
       "      <td>5.2</td>\n",
       "      <td>2.0</td>\n",
       "      <td>Iris-virginica</td>\n",
       "    </tr>\n",
       "    <tr>\n",
       "      <th>148</th>\n",
       "      <td>6.2</td>\n",
       "      <td>3.4</td>\n",
       "      <td>5.4</td>\n",
       "      <td>2.3</td>\n",
       "      <td>Iris-virginica</td>\n",
       "    </tr>\n",
       "    <tr>\n",
       "      <th>149</th>\n",
       "      <td>5.9</td>\n",
       "      <td>3.0</td>\n",
       "      <td>5.1</td>\n",
       "      <td>1.8</td>\n",
       "      <td>Iris-virginica</td>\n",
       "    </tr>\n",
       "  </tbody>\n",
       "</table>\n",
       "<p>150 rows × 5 columns</p>\n",
       "</div>"
      ],
      "text/plain": [
       "     sepal length in cm  sepal width in cm  petal length in cm  \\\n",
       "0                   5.1                3.5                 1.4   \n",
       "1                   4.9                3.0                 1.4   \n",
       "2                   4.7                3.2                 1.3   \n",
       "3                   4.6                3.1                 1.5   \n",
       "4                   5.0                3.6                 1.4   \n",
       "..                  ...                ...                 ...   \n",
       "145                 6.7                3.0                 5.2   \n",
       "146                 6.3                2.5                 5.0   \n",
       "147                 6.5                3.0                 5.2   \n",
       "148                 6.2                3.4                 5.4   \n",
       "149                 5.9                3.0                 5.1   \n",
       "\n",
       "     petal width in cm           class  \n",
       "0                  0.2     Iris-setosa  \n",
       "1                  0.2     Iris-setosa  \n",
       "2                  0.2     Iris-setosa  \n",
       "3                  0.2     Iris-setosa  \n",
       "4                  0.2     Iris-setosa  \n",
       "..                 ...             ...  \n",
       "145                2.3  Iris-virginica  \n",
       "146                1.9  Iris-virginica  \n",
       "147                2.0  Iris-virginica  \n",
       "148                2.3  Iris-virginica  \n",
       "149                1.8  Iris-virginica  \n",
       "\n",
       "[150 rows x 5 columns]"
      ]
     },
     "execution_count": 3,
     "metadata": {},
     "output_type": "execute_result"
    }
   ],
   "source": [
    "dataset_read"
   ]
  },
  {
   "cell_type": "markdown",
   "id": "796b5fae",
   "metadata": {
    "papermill": {
     "duration": 0.026107,
     "end_time": "2022-06-20T19:08:23.326874",
     "exception": false,
     "start_time": "2022-06-20T19:08:23.300767",
     "status": "completed"
    },
    "tags": []
   },
   "source": [
    "**displaying first 10 rows of the dataset**"
   ]
  },
  {
   "cell_type": "code",
   "execution_count": 4,
   "id": "84599c2c",
   "metadata": {
    "execution": {
     "iopub.execute_input": "2022-06-20T19:08:23.362028Z",
     "iopub.status.busy": "2022-06-20T19:08:23.361396Z",
     "iopub.status.idle": "2022-06-20T19:08:23.374058Z",
     "shell.execute_reply": "2022-06-20T19:08:23.373289Z"
    },
    "papermill": {
     "duration": 0.031952,
     "end_time": "2022-06-20T19:08:23.375594",
     "exception": false,
     "start_time": "2022-06-20T19:08:23.343642",
     "status": "completed"
    },
    "tags": []
   },
   "outputs": [
    {
     "data": {
      "text/html": [
       "<div>\n",
       "<style scoped>\n",
       "    .dataframe tbody tr th:only-of-type {\n",
       "        vertical-align: middle;\n",
       "    }\n",
       "\n",
       "    .dataframe tbody tr th {\n",
       "        vertical-align: top;\n",
       "    }\n",
       "\n",
       "    .dataframe thead th {\n",
       "        text-align: right;\n",
       "    }\n",
       "</style>\n",
       "<table border=\"1\" class=\"dataframe\">\n",
       "  <thead>\n",
       "    <tr style=\"text-align: right;\">\n",
       "      <th></th>\n",
       "      <th>sepal length in cm</th>\n",
       "      <th>sepal width in cm</th>\n",
       "      <th>petal length in cm</th>\n",
       "      <th>petal width in cm</th>\n",
       "      <th>class</th>\n",
       "    </tr>\n",
       "  </thead>\n",
       "  <tbody>\n",
       "    <tr>\n",
       "      <th>0</th>\n",
       "      <td>5.1</td>\n",
       "      <td>3.5</td>\n",
       "      <td>1.4</td>\n",
       "      <td>0.2</td>\n",
       "      <td>Iris-setosa</td>\n",
       "    </tr>\n",
       "    <tr>\n",
       "      <th>1</th>\n",
       "      <td>4.9</td>\n",
       "      <td>3.0</td>\n",
       "      <td>1.4</td>\n",
       "      <td>0.2</td>\n",
       "      <td>Iris-setosa</td>\n",
       "    </tr>\n",
       "    <tr>\n",
       "      <th>2</th>\n",
       "      <td>4.7</td>\n",
       "      <td>3.2</td>\n",
       "      <td>1.3</td>\n",
       "      <td>0.2</td>\n",
       "      <td>Iris-setosa</td>\n",
       "    </tr>\n",
       "    <tr>\n",
       "      <th>3</th>\n",
       "      <td>4.6</td>\n",
       "      <td>3.1</td>\n",
       "      <td>1.5</td>\n",
       "      <td>0.2</td>\n",
       "      <td>Iris-setosa</td>\n",
       "    </tr>\n",
       "    <tr>\n",
       "      <th>4</th>\n",
       "      <td>5.0</td>\n",
       "      <td>3.6</td>\n",
       "      <td>1.4</td>\n",
       "      <td>0.2</td>\n",
       "      <td>Iris-setosa</td>\n",
       "    </tr>\n",
       "    <tr>\n",
       "      <th>5</th>\n",
       "      <td>5.4</td>\n",
       "      <td>3.9</td>\n",
       "      <td>1.7</td>\n",
       "      <td>0.4</td>\n",
       "      <td>Iris-setosa</td>\n",
       "    </tr>\n",
       "    <tr>\n",
       "      <th>6</th>\n",
       "      <td>4.6</td>\n",
       "      <td>3.4</td>\n",
       "      <td>1.4</td>\n",
       "      <td>0.3</td>\n",
       "      <td>Iris-setosa</td>\n",
       "    </tr>\n",
       "    <tr>\n",
       "      <th>7</th>\n",
       "      <td>5.0</td>\n",
       "      <td>3.4</td>\n",
       "      <td>1.5</td>\n",
       "      <td>0.2</td>\n",
       "      <td>Iris-setosa</td>\n",
       "    </tr>\n",
       "    <tr>\n",
       "      <th>8</th>\n",
       "      <td>4.4</td>\n",
       "      <td>2.9</td>\n",
       "      <td>1.4</td>\n",
       "      <td>0.2</td>\n",
       "      <td>Iris-setosa</td>\n",
       "    </tr>\n",
       "    <tr>\n",
       "      <th>9</th>\n",
       "      <td>4.9</td>\n",
       "      <td>3.1</td>\n",
       "      <td>1.5</td>\n",
       "      <td>0.1</td>\n",
       "      <td>Iris-setosa</td>\n",
       "    </tr>\n",
       "  </tbody>\n",
       "</table>\n",
       "</div>"
      ],
      "text/plain": [
       "   sepal length in cm  sepal width in cm  petal length in cm  \\\n",
       "0                 5.1                3.5                 1.4   \n",
       "1                 4.9                3.0                 1.4   \n",
       "2                 4.7                3.2                 1.3   \n",
       "3                 4.6                3.1                 1.5   \n",
       "4                 5.0                3.6                 1.4   \n",
       "5                 5.4                3.9                 1.7   \n",
       "6                 4.6                3.4                 1.4   \n",
       "7                 5.0                3.4                 1.5   \n",
       "8                 4.4                2.9                 1.4   \n",
       "9                 4.9                3.1                 1.5   \n",
       "\n",
       "   petal width in cm        class  \n",
       "0                0.2  Iris-setosa  \n",
       "1                0.2  Iris-setosa  \n",
       "2                0.2  Iris-setosa  \n",
       "3                0.2  Iris-setosa  \n",
       "4                0.2  Iris-setosa  \n",
       "5                0.4  Iris-setosa  \n",
       "6                0.3  Iris-setosa  \n",
       "7                0.2  Iris-setosa  \n",
       "8                0.2  Iris-setosa  \n",
       "9                0.1  Iris-setosa  "
      ]
     },
     "execution_count": 4,
     "metadata": {},
     "output_type": "execute_result"
    }
   ],
   "source": [
    "dataset_read.head(10)"
   ]
  },
  {
   "cell_type": "markdown",
   "id": "1a6eefc0",
   "metadata": {
    "papermill": {
     "duration": 0.017029,
     "end_time": "2022-06-20T19:08:23.410003",
     "exception": false,
     "start_time": "2022-06-20T19:08:23.392974",
     "status": "completed"
    },
    "tags": []
   },
   "source": [
    "**displaying last 10 data from data set**"
   ]
  },
  {
   "cell_type": "code",
   "execution_count": 5,
   "id": "6408b1ce",
   "metadata": {
    "execution": {
     "iopub.execute_input": "2022-06-20T19:08:23.446483Z",
     "iopub.status.busy": "2022-06-20T19:08:23.445934Z",
     "iopub.status.idle": "2022-06-20T19:08:23.457806Z",
     "shell.execute_reply": "2022-06-20T19:08:23.456873Z"
    },
    "papermill": {
     "duration": 0.032347,
     "end_time": "2022-06-20T19:08:23.459867",
     "exception": false,
     "start_time": "2022-06-20T19:08:23.427520",
     "status": "completed"
    },
    "tags": []
   },
   "outputs": [
    {
     "data": {
      "text/html": [
       "<div>\n",
       "<style scoped>\n",
       "    .dataframe tbody tr th:only-of-type {\n",
       "        vertical-align: middle;\n",
       "    }\n",
       "\n",
       "    .dataframe tbody tr th {\n",
       "        vertical-align: top;\n",
       "    }\n",
       "\n",
       "    .dataframe thead th {\n",
       "        text-align: right;\n",
       "    }\n",
       "</style>\n",
       "<table border=\"1\" class=\"dataframe\">\n",
       "  <thead>\n",
       "    <tr style=\"text-align: right;\">\n",
       "      <th></th>\n",
       "      <th>sepal length in cm</th>\n",
       "      <th>sepal width in cm</th>\n",
       "      <th>petal length in cm</th>\n",
       "      <th>petal width in cm</th>\n",
       "      <th>class</th>\n",
       "    </tr>\n",
       "  </thead>\n",
       "  <tbody>\n",
       "    <tr>\n",
       "      <th>145</th>\n",
       "      <td>6.7</td>\n",
       "      <td>3.0</td>\n",
       "      <td>5.2</td>\n",
       "      <td>2.3</td>\n",
       "      <td>Iris-virginica</td>\n",
       "    </tr>\n",
       "    <tr>\n",
       "      <th>146</th>\n",
       "      <td>6.3</td>\n",
       "      <td>2.5</td>\n",
       "      <td>5.0</td>\n",
       "      <td>1.9</td>\n",
       "      <td>Iris-virginica</td>\n",
       "    </tr>\n",
       "    <tr>\n",
       "      <th>147</th>\n",
       "      <td>6.5</td>\n",
       "      <td>3.0</td>\n",
       "      <td>5.2</td>\n",
       "      <td>2.0</td>\n",
       "      <td>Iris-virginica</td>\n",
       "    </tr>\n",
       "    <tr>\n",
       "      <th>148</th>\n",
       "      <td>6.2</td>\n",
       "      <td>3.4</td>\n",
       "      <td>5.4</td>\n",
       "      <td>2.3</td>\n",
       "      <td>Iris-virginica</td>\n",
       "    </tr>\n",
       "    <tr>\n",
       "      <th>149</th>\n",
       "      <td>5.9</td>\n",
       "      <td>3.0</td>\n",
       "      <td>5.1</td>\n",
       "      <td>1.8</td>\n",
       "      <td>Iris-virginica</td>\n",
       "    </tr>\n",
       "  </tbody>\n",
       "</table>\n",
       "</div>"
      ],
      "text/plain": [
       "     sepal length in cm  sepal width in cm  petal length in cm  \\\n",
       "145                 6.7                3.0                 5.2   \n",
       "146                 6.3                2.5                 5.0   \n",
       "147                 6.5                3.0                 5.2   \n",
       "148                 6.2                3.4                 5.4   \n",
       "149                 5.9                3.0                 5.1   \n",
       "\n",
       "     petal width in cm           class  \n",
       "145                2.3  Iris-virginica  \n",
       "146                1.9  Iris-virginica  \n",
       "147                2.0  Iris-virginica  \n",
       "148                2.3  Iris-virginica  \n",
       "149                1.8  Iris-virginica  "
      ]
     },
     "execution_count": 5,
     "metadata": {},
     "output_type": "execute_result"
    }
   ],
   "source": [
    "dataset_read.tail()"
   ]
  },
  {
   "cell_type": "markdown",
   "id": "e2324ea1",
   "metadata": {
    "papermill": {
     "duration": 0.017197,
     "end_time": "2022-06-20T19:08:23.494956",
     "exception": false,
     "start_time": "2022-06-20T19:08:23.477759",
     "status": "completed"
    },
    "tags": []
   },
   "source": [
    "**returning description of the data in the DataFrame.**"
   ]
  },
  {
   "cell_type": "code",
   "execution_count": 6,
   "id": "26c4a4a5",
   "metadata": {
    "execution": {
     "iopub.execute_input": "2022-06-20T19:08:23.530977Z",
     "iopub.status.busy": "2022-06-20T19:08:23.530610Z",
     "iopub.status.idle": "2022-06-20T19:08:23.561878Z",
     "shell.execute_reply": "2022-06-20T19:08:23.561043Z"
    },
    "papermill": {
     "duration": 0.051275,
     "end_time": "2022-06-20T19:08:23.563385",
     "exception": false,
     "start_time": "2022-06-20T19:08:23.512110",
     "status": "completed"
    },
    "tags": []
   },
   "outputs": [
    {
     "data": {
      "text/html": [
       "<div>\n",
       "<style scoped>\n",
       "    .dataframe tbody tr th:only-of-type {\n",
       "        vertical-align: middle;\n",
       "    }\n",
       "\n",
       "    .dataframe tbody tr th {\n",
       "        vertical-align: top;\n",
       "    }\n",
       "\n",
       "    .dataframe thead th {\n",
       "        text-align: right;\n",
       "    }\n",
       "</style>\n",
       "<table border=\"1\" class=\"dataframe\">\n",
       "  <thead>\n",
       "    <tr style=\"text-align: right;\">\n",
       "      <th></th>\n",
       "      <th>sepal length in cm</th>\n",
       "      <th>sepal width in cm</th>\n",
       "      <th>petal length in cm</th>\n",
       "      <th>petal width in cm</th>\n",
       "    </tr>\n",
       "  </thead>\n",
       "  <tbody>\n",
       "    <tr>\n",
       "      <th>count</th>\n",
       "      <td>150.000000</td>\n",
       "      <td>150.000000</td>\n",
       "      <td>150.000000</td>\n",
       "      <td>150.000000</td>\n",
       "    </tr>\n",
       "    <tr>\n",
       "      <th>mean</th>\n",
       "      <td>5.843333</td>\n",
       "      <td>3.054000</td>\n",
       "      <td>3.758667</td>\n",
       "      <td>1.198667</td>\n",
       "    </tr>\n",
       "    <tr>\n",
       "      <th>std</th>\n",
       "      <td>0.828066</td>\n",
       "      <td>0.433594</td>\n",
       "      <td>1.764420</td>\n",
       "      <td>0.763161</td>\n",
       "    </tr>\n",
       "    <tr>\n",
       "      <th>min</th>\n",
       "      <td>4.300000</td>\n",
       "      <td>2.000000</td>\n",
       "      <td>1.000000</td>\n",
       "      <td>0.100000</td>\n",
       "    </tr>\n",
       "    <tr>\n",
       "      <th>25%</th>\n",
       "      <td>5.100000</td>\n",
       "      <td>2.800000</td>\n",
       "      <td>1.600000</td>\n",
       "      <td>0.300000</td>\n",
       "    </tr>\n",
       "    <tr>\n",
       "      <th>50%</th>\n",
       "      <td>5.800000</td>\n",
       "      <td>3.000000</td>\n",
       "      <td>4.350000</td>\n",
       "      <td>1.300000</td>\n",
       "    </tr>\n",
       "    <tr>\n",
       "      <th>75%</th>\n",
       "      <td>6.400000</td>\n",
       "      <td>3.300000</td>\n",
       "      <td>5.100000</td>\n",
       "      <td>1.800000</td>\n",
       "    </tr>\n",
       "    <tr>\n",
       "      <th>max</th>\n",
       "      <td>7.900000</td>\n",
       "      <td>4.400000</td>\n",
       "      <td>6.900000</td>\n",
       "      <td>2.500000</td>\n",
       "    </tr>\n",
       "  </tbody>\n",
       "</table>\n",
       "</div>"
      ],
      "text/plain": [
       "       sepal length in cm  sepal width in cm  petal length in cm  \\\n",
       "count          150.000000         150.000000          150.000000   \n",
       "mean             5.843333           3.054000            3.758667   \n",
       "std              0.828066           0.433594            1.764420   \n",
       "min              4.300000           2.000000            1.000000   \n",
       "25%              5.100000           2.800000            1.600000   \n",
       "50%              5.800000           3.000000            4.350000   \n",
       "75%              6.400000           3.300000            5.100000   \n",
       "max              7.900000           4.400000            6.900000   \n",
       "\n",
       "       petal width in cm  \n",
       "count         150.000000  \n",
       "mean            1.198667  \n",
       "std             0.763161  \n",
       "min             0.100000  \n",
       "25%             0.300000  \n",
       "50%             1.300000  \n",
       "75%             1.800000  \n",
       "max             2.500000  "
      ]
     },
     "execution_count": 6,
     "metadata": {},
     "output_type": "execute_result"
    }
   ],
   "source": [
    "dataset_read.describe()"
   ]
  },
  {
   "cell_type": "markdown",
   "id": "7551d6a7",
   "metadata": {
    "papermill": {
     "duration": 0.017408,
     "end_time": "2022-06-20T19:08:23.598661",
     "exception": false,
     "start_time": "2022-06-20T19:08:23.581253",
     "status": "completed"
    },
    "tags": []
   },
   "source": [
    "**getting the information of column  relates in dataset**"
   ]
  },
  {
   "cell_type": "code",
   "execution_count": 7,
   "id": "f4ae2fbe",
   "metadata": {
    "execution": {
     "iopub.execute_input": "2022-06-20T19:08:23.635073Z",
     "iopub.status.busy": "2022-06-20T19:08:23.634367Z",
     "iopub.status.idle": "2022-06-20T19:08:23.640192Z",
     "shell.execute_reply": "2022-06-20T19:08:23.639601Z"
    },
    "papermill": {
     "duration": 0.025688,
     "end_time": "2022-06-20T19:08:23.641651",
     "exception": false,
     "start_time": "2022-06-20T19:08:23.615963",
     "status": "completed"
    },
    "tags": []
   },
   "outputs": [
    {
     "data": {
      "text/plain": [
       "Index(['sepal length in cm', 'sepal width in cm', 'petal length in cm',\n",
       "       'petal width in cm', 'class'],\n",
       "      dtype='object')"
      ]
     },
     "execution_count": 7,
     "metadata": {},
     "output_type": "execute_result"
    }
   ],
   "source": [
    "dataset_read.columns"
   ]
  },
  {
   "cell_type": "markdown",
   "id": "c6727136",
   "metadata": {
    "papermill": {
     "duration": 0.017538,
     "end_time": "2022-06-20T19:08:23.677022",
     "exception": false,
     "start_time": "2022-06-20T19:08:23.659484",
     "status": "completed"
    },
    "tags": []
   },
   "source": [
    "**we can see there are 5 columns now go to the data type**"
   ]
  },
  {
   "cell_type": "code",
   "execution_count": 8,
   "id": "597b0f05",
   "metadata": {
    "execution": {
     "iopub.execute_input": "2022-06-20T19:08:23.714051Z",
     "iopub.status.busy": "2022-06-20T19:08:23.713248Z",
     "iopub.status.idle": "2022-06-20T19:08:23.719656Z",
     "shell.execute_reply": "2022-06-20T19:08:23.718882Z"
    },
    "papermill": {
     "duration": 0.026872,
     "end_time": "2022-06-20T19:08:23.721476",
     "exception": false,
     "start_time": "2022-06-20T19:08:23.694604",
     "status": "completed"
    },
    "tags": []
   },
   "outputs": [
    {
     "data": {
      "text/plain": [
       "sepal length in cm    float64\n",
       "sepal width in cm     float64\n",
       "petal length in cm    float64\n",
       "petal width in cm     float64\n",
       "class                  object\n",
       "dtype: object"
      ]
     },
     "execution_count": 8,
     "metadata": {},
     "output_type": "execute_result"
    }
   ],
   "source": [
    "dataset_read.dtypes"
   ]
  },
  {
   "cell_type": "markdown",
   "id": "49d804d2",
   "metadata": {
    "papermill": {
     "duration": 0.029877,
     "end_time": "2022-06-20T19:08:23.781468",
     "exception": false,
     "start_time": "2022-06-20T19:08:23.751591",
     "status": "completed"
    },
    "tags": []
   },
   "source": [
    "**checking for unique data**"
   ]
  },
  {
   "cell_type": "code",
   "execution_count": 9,
   "id": "d09ea2b4",
   "metadata": {
    "execution": {
     "iopub.execute_input": "2022-06-20T19:08:23.842680Z",
     "iopub.status.busy": "2022-06-20T19:08:23.842176Z",
     "iopub.status.idle": "2022-06-20T19:08:23.851310Z",
     "shell.execute_reply": "2022-06-20T19:08:23.850613Z"
    },
    "papermill": {
     "duration": 0.04172,
     "end_time": "2022-06-20T19:08:23.853041",
     "exception": false,
     "start_time": "2022-06-20T19:08:23.811321",
     "status": "completed"
    },
    "tags": []
   },
   "outputs": [
    {
     "data": {
      "text/plain": [
       "<bound method DataFrame.nunique of      sepal length in cm  sepal width in cm  petal length in cm  \\\n",
       "0                   5.1                3.5                 1.4   \n",
       "1                   4.9                3.0                 1.4   \n",
       "2                   4.7                3.2                 1.3   \n",
       "3                   4.6                3.1                 1.5   \n",
       "4                   5.0                3.6                 1.4   \n",
       "..                  ...                ...                 ...   \n",
       "145                 6.7                3.0                 5.2   \n",
       "146                 6.3                2.5                 5.0   \n",
       "147                 6.5                3.0                 5.2   \n",
       "148                 6.2                3.4                 5.4   \n",
       "149                 5.9                3.0                 5.1   \n",
       "\n",
       "     petal width in cm           class  \n",
       "0                  0.2     Iris-setosa  \n",
       "1                  0.2     Iris-setosa  \n",
       "2                  0.2     Iris-setosa  \n",
       "3                  0.2     Iris-setosa  \n",
       "4                  0.2     Iris-setosa  \n",
       "..                 ...             ...  \n",
       "145                2.3  Iris-virginica  \n",
       "146                1.9  Iris-virginica  \n",
       "147                2.0  Iris-virginica  \n",
       "148                2.3  Iris-virginica  \n",
       "149                1.8  Iris-virginica  \n",
       "\n",
       "[150 rows x 5 columns]>"
      ]
     },
     "execution_count": 9,
     "metadata": {},
     "output_type": "execute_result"
    }
   ],
   "source": [
    "dataset_read.nunique"
   ]
  },
  {
   "cell_type": "markdown",
   "id": "018ed0c5",
   "metadata": {
    "papermill": {
     "duration": 0.029702,
     "end_time": "2022-06-20T19:08:23.913514",
     "exception": false,
     "start_time": "2022-06-20T19:08:23.883812",
     "status": "completed"
    },
    "tags": []
   },
   "source": [
    "**Renaming column name for better visualization **"
   ]
  },
  {
   "cell_type": "code",
   "execution_count": 10,
   "id": "0899ab8b",
   "metadata": {
    "execution": {
     "iopub.execute_input": "2022-06-20T19:08:23.975683Z",
     "iopub.status.busy": "2022-06-20T19:08:23.975180Z",
     "iopub.status.idle": "2022-06-20T19:08:23.979671Z",
     "shell.execute_reply": "2022-06-20T19:08:23.979140Z"
    },
    "papermill": {
     "duration": 0.037708,
     "end_time": "2022-06-20T19:08:23.981446",
     "exception": false,
     "start_time": "2022-06-20T19:08:23.943738",
     "status": "completed"
    },
    "tags": []
   },
   "outputs": [],
   "source": [
    "dataset_updated=dataset_read.rename(columns={'sepal length in cm':'sepal_length','petal length in cm':'petal_length','sepal width in cm':'sepal_width','petal width in cm':'petal_width','class':'species'})"
   ]
  },
  {
   "cell_type": "code",
   "execution_count": 11,
   "id": "e9942170",
   "metadata": {
    "execution": {
     "iopub.execute_input": "2022-06-20T19:08:24.043130Z",
     "iopub.status.busy": "2022-06-20T19:08:24.042598Z",
     "iopub.status.idle": "2022-06-20T19:08:24.050701Z",
     "shell.execute_reply": "2022-06-20T19:08:24.050155Z"
    },
    "papermill": {
     "duration": 0.041223,
     "end_time": "2022-06-20T19:08:24.052638",
     "exception": false,
     "start_time": "2022-06-20T19:08:24.011415",
     "status": "completed"
    },
    "tags": []
   },
   "outputs": [
    {
     "name": "stdout",
     "output_type": "stream",
     "text": [
      "     sepal_length  sepal_width  petal_length  petal_width         species\n",
      "0             5.1          3.5           1.4          0.2     Iris-setosa\n",
      "1             4.9          3.0           1.4          0.2     Iris-setosa\n",
      "2             4.7          3.2           1.3          0.2     Iris-setosa\n",
      "3             4.6          3.1           1.5          0.2     Iris-setosa\n",
      "4             5.0          3.6           1.4          0.2     Iris-setosa\n",
      "..            ...          ...           ...          ...             ...\n",
      "145           6.7          3.0           5.2          2.3  Iris-virginica\n",
      "146           6.3          2.5           5.0          1.9  Iris-virginica\n",
      "147           6.5          3.0           5.2          2.0  Iris-virginica\n",
      "148           6.2          3.4           5.4          2.3  Iris-virginica\n",
      "149           5.9          3.0           5.1          1.8  Iris-virginica\n",
      "\n",
      "[150 rows x 5 columns]\n"
     ]
    }
   ],
   "source": [
    "print(dataset_updated)"
   ]
  },
  {
   "cell_type": "code",
   "execution_count": null,
   "id": "c168c331",
   "metadata": {
    "papermill": {
     "duration": 0.029238,
     "end_time": "2022-06-20T19:08:24.111764",
     "exception": false,
     "start_time": "2022-06-20T19:08:24.082526",
     "status": "completed"
    },
    "tags": []
   },
   "outputs": [],
   "source": []
  },
  {
   "cell_type": "markdown",
   "id": "0ee82793",
   "metadata": {
    "papermill": {
     "duration": 0.029214,
     "end_time": "2022-06-20T19:08:24.170797",
     "exception": false,
     "start_time": "2022-06-20T19:08:24.141583",
     "status": "completed"
    },
    "tags": []
   },
   "source": [
    " **after getting all the necessary information now we can start plotting are graphs**"
   ]
  },
  {
   "cell_type": "markdown",
   "id": "7cf04651",
   "metadata": {
    "papermill": {
     "duration": 0.029357,
     "end_time": "2022-06-20T19:08:24.229629",
     "exception": false,
     "start_time": "2022-06-20T19:08:24.200272",
     "status": "completed"
    },
    "tags": []
   },
   "source": [
    "# Visualization is the key to change the world"
   ]
  },
  {
   "cell_type": "code",
   "execution_count": 12,
   "id": "01f97139",
   "metadata": {
    "execution": {
     "iopub.execute_input": "2022-06-20T19:08:24.290665Z",
     "iopub.status.busy": "2022-06-20T19:08:24.290268Z",
     "iopub.status.idle": "2022-06-20T19:08:25.151332Z",
     "shell.execute_reply": "2022-06-20T19:08:25.150484Z"
    },
    "papermill": {
     "duration": 0.894028,
     "end_time": "2022-06-20T19:08:25.153510",
     "exception": false,
     "start_time": "2022-06-20T19:08:24.259482",
     "status": "completed"
    },
    "tags": []
   },
   "outputs": [
    {
     "data": {
      "text/plain": [
       "<AxesSubplot:xlabel='sepal_length', ylabel='petal_length'>"
      ]
     },
     "execution_count": 12,
     "metadata": {},
     "output_type": "execute_result"
    },
    {
     "data": {
      "image/png": "[encoded data removed]",
      "text/plain": [
       "<Figure size 432x288 with 1 Axes>"
      ]
     },
     "metadata": {
      "needs_background": "light"
     },
     "output_type": "display_data"
    }
   ],
   "source": [
    "sns.lineplot(x=dataset_updated[\"sepal_length\"],y=dataset_updated[\"petal_length\"])\n"
   ]
  },
  {
   "cell_type": "markdown",
   "id": "a542d4aa",
   "metadata": {
    "papermill": {
     "duration": 0.030426,
     "end_time": "2022-06-20T19:08:25.215093",
     "exception": false,
     "start_time": "2022-06-20T19:08:25.184667",
     "status": "completed"
    },
    "tags": []
   },
   "source": [
    "*Here is the comparision between sepal length and petal length*"
   ]
  },
  {
   "cell_type": "code",
   "execution_count": 13,
   "id": "92928284",
   "metadata": {
    "execution": {
     "iopub.execute_input": "2022-06-20T19:08:25.278150Z",
     "iopub.status.busy": "2022-06-20T19:08:25.277375Z",
     "iopub.status.idle": "2022-06-20T19:08:25.453662Z",
     "shell.execute_reply": "2022-06-20T19:08:25.452766Z"
    },
    "papermill": {
     "duration": 0.209813,
     "end_time": "2022-06-20T19:08:25.455306",
     "exception": false,
     "start_time": "2022-06-20T19:08:25.245493",
     "status": "completed"
    },
    "tags": []
   },
   "outputs": [
    {
     "data": {
      "text/plain": [
       "Text(0.5, 1.0, 'sepal length vs petal length')"
      ]
     },
     "execution_count": 13,
     "metadata": {},
     "output_type": "execute_result"
    },
    {
     "data": {
      "image/png": "[encoded data removed]",
      "text/plain": [
       "<Figure size 432x288 with 1 Axes>"
      ]
     },
     "metadata": {
      "needs_background": "light"
     },
     "output_type": "display_data"
    }
   ],
   "source": [
    "sns.scatterplot(x=dataset_updated[\"sepal_length\"],y=dataset_updated[\"petal_length\"])\n",
    "plt.title(\"sepal length vs petal length\")\n",
    "\n"
   ]
  },
  {
   "cell_type": "markdown",
   "id": "2dd8f340",
   "metadata": {
    "papermill": {
     "duration": 0.018351,
     "end_time": "2022-06-20T19:08:25.492431",
     "exception": false,
     "start_time": "2022-06-20T19:08:25.474080",
     "status": "completed"
    },
    "tags": []
   },
   "source": []
  },
  {
   "cell_type": "code",
   "execution_count": null,
   "id": "a264dce5",
   "metadata": {
    "papermill": {
     "duration": 0.01831,
     "end_time": "2022-06-20T19:08:25.528998",
     "exception": false,
     "start_time": "2022-06-20T19:08:25.510688",
     "status": "completed"
    },
    "tags": []
   },
   "outputs": [],
   "source": []
  },
  {
   "cell_type": "code",
   "execution_count": 14,
   "id": "e940c00b",
   "metadata": {
    "execution": {
     "iopub.execute_input": "2022-06-20T19:08:25.567447Z",
     "iopub.status.busy": "2022-06-20T19:08:25.567088Z",
     "iopub.status.idle": "2022-06-20T19:08:25.711564Z",
     "shell.execute_reply": "2022-06-20T19:08:25.710979Z"
    },
    "papermill": {
     "duration": 0.165778,
     "end_time": "2022-06-20T19:08:25.713166",
     "exception": false,
     "start_time": "2022-06-20T19:08:25.547388",
     "status": "completed"
    },
    "tags": []
   },
   "outputs": [
    {
     "data": {
      "text/plain": [
       "<matplotlib.legend.Legend at 0x7ff0f0680150>"
      ]
     },
     "execution_count": 14,
     "metadata": {},
     "output_type": "execute_result"
    },
    {
     "data": {
      "image/png": "[encoded data removed]",
      "text/plain": [
       "<Figure size 432x288 with 1 Axes>"
      ]
     },
     "metadata": {
      "needs_background": "light"
     },
     "output_type": "display_data"
    }
   ],
   "source": [
    "plt.plot(dataset_updated['sepal_width'])\n",
    "plt.plot(dataset_updated['petal_width'])\n",
    "plt.legend([\"sepal_width\", \"petal_width\"])\n"
   ]
  },
  {
   "cell_type": "code",
   "execution_count": 15,
   "id": "04bd96fd",
   "metadata": {
    "execution": {
     "iopub.execute_input": "2022-06-20T19:08:25.753139Z",
     "iopub.status.busy": "2022-06-20T19:08:25.752129Z",
     "iopub.status.idle": "2022-06-20T19:08:25.936275Z",
     "shell.execute_reply": "2022-06-20T19:08:25.935412Z"
    },
    "papermill": {
     "duration": 0.205645,
     "end_time": "2022-06-20T19:08:25.938000",
     "exception": false,
     "start_time": "2022-06-20T19:08:25.732355",
     "status": "completed"
    },
    "tags": []
   },
   "outputs": [
    {
     "data": {
      "image/png": "[encoded data removed]",
      "text/plain": [
       "<Figure size 432x288 with 1 Axes>"
      ]
     },
     "metadata": {
      "needs_background": "light"
     },
     "output_type": "display_data"
    }
   ],
   "source": [
    "plt.plot(dataset_updated['sepal_width'])\n",
    "plt.plot(dataset_updated['petal_width'])\n",
    "plt.plot(dataset_updated['sepal_length'])\n",
    "plt.plot(dataset_updated['petal_length'])\n",
    "plt.legend([\"sepal_width\", \"petal_width\",\"sepal_length\",\"petal_width\"])\n",
    "plt.rcParams[\"figure.figsize\"]=(18,5)\n"
   ]
  },
  {
   "cell_type": "markdown",
   "id": "197c42d7",
   "metadata": {
    "papermill": {
     "duration": 0.019744,
     "end_time": "2022-06-20T19:08:25.977986",
     "exception": false,
     "start_time": "2022-06-20T19:08:25.958242",
     "status": "completed"
    },
    "tags": []
   },
   "source": [
    "# **i used plt.rcParams[\"figure.figsize\"] where width= 18 height=15**"
   ]
  },
  {
   "cell_type": "code",
   "execution_count": 16,
   "id": "556fbf43",
   "metadata": {
    "execution": {
     "iopub.execute_input": "2022-06-20T19:08:26.044992Z",
     "iopub.status.busy": "2022-06-20T19:08:26.044427Z",
     "iopub.status.idle": "2022-06-20T19:08:26.536849Z",
     "shell.execute_reply": "2022-06-20T19:08:26.535774Z"
    },
    "papermill": {
     "duration": 0.528028,
     "end_time": "2022-06-20T19:08:26.538511",
     "exception": false,
     "start_time": "2022-06-20T19:08:26.010483",
     "status": "completed"
    },
    "tags": []
   },
   "outputs": [
    {
     "data": {
      "text/plain": [
       "<matplotlib.legend.Legend at 0x7ff0f0680590>"
      ]
     },
     "execution_count": 16,
     "metadata": {},
     "output_type": "execute_result"
    },
    {
     "data": {
      "image/png": "[encoded data removed]",
      "text/plain": [
       "<Figure size 360x360 with 1 Axes>"
      ]
     },
     "metadata": {
      "needs_background": "light"
     },
     "output_type": "display_data"
    }
   ],
   "source": [
    "sns.lmplot( x=\"sepal_length\", y=\"sepal_width\", data=dataset_updated, hue='species', legend=False)\n",
    "\n",
    "plt.legend([\"sepal_width\",\"sepal_length\"])"
   ]
  },
  {
   "cell_type": "markdown",
   "id": "7459bad8",
   "metadata": {
    "papermill": {
     "duration": 0.019785,
     "end_time": "2022-06-20T19:08:26.578824",
     "exception": false,
     "start_time": "2022-06-20T19:08:26.559039",
     "status": "completed"
    },
    "tags": []
   },
   "source": [
    "# LETS START ANALYSING THE SPECIES"
   ]
  },
  {
   "cell_type": "markdown",
   "id": "c848c9cd",
   "metadata": {
    "papermill": {
     "duration": 0.01972,
     "end_time": "2022-06-20T19:08:26.618507",
     "exception": false,
     "start_time": "2022-06-20T19:08:26.598787",
     "status": "completed"
    },
    "tags": []
   },
   "source": [
    "# A Multivariate Analysis"
   ]
  },
  {
   "cell_type": "code",
   "execution_count": 17,
   "id": "481123c7",
   "metadata": {
    "execution": {
     "iopub.execute_input": "2022-06-20T19:08:26.659684Z",
     "iopub.status.busy": "2022-06-20T19:08:26.659353Z",
     "iopub.status.idle": "2022-06-20T19:08:30.816078Z",
     "shell.execute_reply": "2022-06-20T19:08:30.815188Z"
    },
    "papermill": {
     "duration": 4.180392,
     "end_time": "2022-06-20T19:08:30.818822",
     "exception": false,
     "start_time": "2022-06-20T19:08:26.638430",
     "status": "completed"
    },
    "tags": []
   },
   "outputs": [
    {
     "data": {
      "text/plain": [
       "<seaborn.axisgrid.PairGrid at 0x7ff0f06138d0>"
      ]
     },
     "execution_count": 17,
     "metadata": {},
     "output_type": "execute_result"
    },
    {
     "data": {
      "image/png": "[encoded data removed]",
      "text/plain": [
       "<Figure size 823.25x720 with 20 Axes>"
      ]
     },
     "metadata": {
      "needs_background": "light"
     },
     "output_type": "display_data"
    }
   ],
   "source": [
    "sns.pairplot(dataset_updated, hue = \"species\",palette='CMRmap_r')\n"
   ]
  },
  {
   "cell_type": "markdown",
   "id": "cb89ae97",
   "metadata": {
    "papermill": {
     "duration": 0.022443,
     "end_time": "2022-06-20T19:08:30.864560",
     "exception": false,
     "start_time": "2022-06-20T19:08:30.842117",
     "status": "completed"
    },
    "tags": []
   },
   "source": [
    "**after graphing the features in a pair plot,** it is clear that the relationship between pairs of features of a **iris-setosa (yellow)** is distinctly different from those of the other two species.\n",
    "\n",
    "There is some overlapping going  in the pairwise relationships of the other two species,**iris-versicolor (orange)** and **iris-virginica (blue)**."
   ]
  },
  {
   "cell_type": "markdown",
   "id": "9f5e0a43",
   "metadata": {
    "papermill": {
     "duration": 0.022194,
     "end_time": "2022-06-20T19:08:30.909471",
     "exception": false,
     "start_time": "2022-06-20T19:08:30.887277",
     "status": "completed"
    },
    "tags": []
   },
   "source": [
    "# Bar plot for sepal width,sepal length, petal width, petal length"
   ]
  },
  {
   "cell_type": "code",
   "execution_count": 18,
   "id": "3d239700",
   "metadata": {
    "execution": {
     "iopub.execute_input": "2022-06-20T19:08:30.955920Z",
     "iopub.status.busy": "2022-06-20T19:08:30.955384Z",
     "iopub.status.idle": "2022-06-20T19:08:31.466293Z",
     "shell.execute_reply": "2022-06-20T19:08:31.465411Z"
    },
    "papermill": {
     "duration": 0.535929,
     "end_time": "2022-06-20T19:08:31.467916",
     "exception": false,
     "start_time": "2022-06-20T19:08:30.931987",
     "status": "completed"
    },
    "tags": []
   },
   "outputs": [
    {
     "data": {
      "text/plain": [
       "Text(0.5, 1.0, 'petal_width')"
      ]
     },
     "execution_count": 18,
     "metadata": {},
     "output_type": "execute_result"
    },
    {
     "data": {
      "image/png": "[encoded data removed]",
      "text/plain": [
       "<Figure size 1440x360 with 4 Axes>"
      ]
     },
     "metadata": {
      "needs_background": "light"
     },
     "output_type": "display_data"
    }
   ],
   "source": [
    "fig,axes=plt.subplots(1,4,figsize=(20,5))\n",
    "\n",
    "dataset_updated['sepal_length'].hist(ax=axes[0],color=\"r\").set_title(\"sepal_length\")\n",
    "dataset_updated['petal_length'].hist(ax=axes[1],color=\"b\").set_title(\"petal_length\")\n",
    "dataset_updated['sepal_width'].hist(ax=axes[2],color=\"g\").set_title(\"sepal_width\")\n",
    "dataset_updated['petal_width'].hist(ax=axes[3],color=\"m\").set_title(\"petal_width\")\n",
    "\n",
    " "
   ]
  },
  {
   "cell_type": "markdown",
   "id": "2a33b0dd",
   "metadata": {
    "papermill": {
     "duration": 0.022308,
     "end_time": "2022-06-20T19:08:31.513270",
     "exception": false,
     "start_time": "2022-06-20T19:08:31.490962",
     "status": "completed"
    },
    "tags": []
   },
   "source": [
    "**Bar plot to understand about species**"
   ]
  },
  {
   "cell_type": "code",
   "execution_count": 19,
   "id": "d396eea1",
   "metadata": {
    "execution": {
     "iopub.execute_input": "2022-06-20T19:08:31.559891Z",
     "iopub.status.busy": "2022-06-20T19:08:31.559474Z",
     "iopub.status.idle": "2022-06-20T19:08:32.299232Z",
     "shell.execute_reply": "2022-06-20T19:08:32.298362Z"
    },
    "papermill": {
     "duration": 0.765204,
     "end_time": "2022-06-20T19:08:32.301048",
     "exception": false,
     "start_time": "2022-06-20T19:08:31.535844",
     "status": "completed"
    },
    "tags": []
   },
   "outputs": [
    {
     "data": {
      "text/plain": [
       "Text(0.5, 1.0, 'species vs petal_width')"
      ]
     },
     "execution_count": 19,
     "metadata": {},
     "output_type": "execute_result"
    },
    {
     "data": {
      "image/png": "[encoded data removed]",
      "text/plain": [
       "<Figure size 1152x360 with 4 Axes>"
      ]
     },
     "metadata": {
      "needs_background": "light"
     },
     "output_type": "display_data"
    }
   ],
   "source": [
    "fig,axes=plt.subplots(2,2,figsize=(16,5))\n",
    "plt.subplots_adjust(left=0.1,\n",
    "                     bottom=0.1,\n",
    "                    right=0.9, \n",
    "                    top=1\n",
    "                    )\n",
    "sns.barplot(x=dataset_updated[\"species\"],y=dataset_updated[\"sepal_length\"],palette='cool',ax=axes[0][0]).set_title('species vs sepal_length')\n",
    "sns.barplot(x=dataset_updated[\"species\"],y=dataset_updated[\"sepal_width\"],palette='cool',ax=axes[1][0]).set_title('species vs sepal_width')\n",
    "sns.barplot(x=dataset_updated[\"species\"],y=dataset_updated[\"petal_length\"],palette='CMRmap_r',ax=axes[0][1]).set_title('species vs petal_length')\n",
    "sns.barplot(x=dataset_updated[\"species\"],y=dataset_updated[\"petal_width\"],palette='CMRmap_r',ax=axes[1][1]).set_title('species vs petal_width')\n",
    "\n",
    "\n",
    " "
   ]
  },
  {
   "cell_type": "markdown",
   "id": "92f59fb5",
   "metadata": {
    "papermill": {
     "duration": 0.023021,
     "end_time": "2022-06-20T19:08:32.351598",
     "exception": false,
     "start_time": "2022-06-20T19:08:32.328577",
     "status": "completed"
    },
    "tags": []
   },
   "source": [
    "# conclusion from bivariative analysis\n",
    "\n",
    "* **sepal length plot 1**\n",
    "\n",
    "**iris-setosa** has the shorter sepal length and **iris virginica** has longer\n",
    "\n",
    "* **petal length plot 2**\n",
    "\n",
    "**iris-setosa** has the shorter petal length and **Iris virginica** has longer\n",
    "\n",
    "* **sepal width plot 3**\n",
    "\n",
    "**iris-setosa** has the longer sepal width then **Iris virginica**\n",
    "\n",
    "* **petal width plot 4**\n",
    "\n",
    "**iris-setosa** has the shorter petal width and **Iris virginica** has longer\n"
   ]
  },
  {
   "cell_type": "code",
   "execution_count": 20,
   "id": "9e5eadc4",
   "metadata": {
    "execution": {
     "iopub.execute_input": "2022-06-20T19:08:32.399831Z",
     "iopub.status.busy": "2022-06-20T19:08:32.399464Z",
     "iopub.status.idle": "2022-06-20T19:08:32.525118Z",
     "shell.execute_reply": "2022-06-20T19:08:32.524276Z"
    },
    "papermill": {
     "duration": 0.151479,
     "end_time": "2022-06-20T19:08:32.526955",
     "exception": false,
     "start_time": "2022-06-20T19:08:32.375476",
     "status": "completed"
    },
    "tags": []
   },
   "outputs": [
    {
     "data": {
      "text/plain": [
       "Text(0.5, 1.0, 'iris species classifications')"
      ]
     },
     "execution_count": 20,
     "metadata": {},
     "output_type": "execute_result"
    },
    {
     "data": {
      "image/png": "[encoded data removed]",
      "text/plain": [
       "<Figure size 1296x360 with 1 Axes>"
      ]
     },
     "metadata": {},
     "output_type": "display_data"
    }
   ],
   "source": [
    "dataset_updated['species'].value_counts().plot.pie(explode=[0.04,0.04,0.04],shadow=True,autopct='%1.2f%%',colors=[\"lightcoral\",\"lightpink\",\"lightblue\"],).set_title(\"iris species classifications\")"
   ]
  },
  {
   "cell_type": "markdown",
   "id": "67e38c87",
   "metadata": {
    "papermill": {
     "duration": 0.032283,
     "end_time": "2022-06-20T19:08:32.592018",
     "exception": false,
     "start_time": "2022-06-20T19:08:32.559735",
     "status": "completed"
    },
    "tags": []
   },
   "source": [
    "**correlation is used to exclude the data which is not available or the data is non-numeric**"
   ]
  },
  {
   "cell_type": "code",
   "execution_count": 21,
   "id": "ce53b3dc",
   "metadata": {
    "execution": {
     "iopub.execute_input": "2022-06-20T19:08:32.646003Z",
     "iopub.status.busy": "2022-06-20T19:08:32.645428Z",
     "iopub.status.idle": "2022-06-20T19:08:32.649874Z",
     "shell.execute_reply": "2022-06-20T19:08:32.649196Z"
    },
    "papermill": {
     "duration": 0.031176,
     "end_time": "2022-06-20T19:08:32.651403",
     "exception": false,
     "start_time": "2022-06-20T19:08:32.620227",
     "status": "completed"
    },
    "tags": []
   },
   "outputs": [],
   "source": [
    "correlation=dataset_updated.corr()"
   ]
  },
  {
   "cell_type": "code",
   "execution_count": 22,
   "id": "0df86773",
   "metadata": {
    "execution": {
     "iopub.execute_input": "2022-06-20T19:08:32.700468Z",
     "iopub.status.busy": "2022-06-20T19:08:32.699948Z",
     "iopub.status.idle": "2022-06-20T19:08:32.963094Z",
     "shell.execute_reply": "2022-06-20T19:08:32.962380Z"
    },
    "papermill": {
     "duration": 0.289486,
     "end_time": "2022-06-20T19:08:32.964797",
     "exception": false,
     "start_time": "2022-06-20T19:08:32.675311",
     "status": "completed"
    },
    "tags": []
   },
   "outputs": [
    {
     "data": {
      "image/png": "[encoded data removed]",
      "text/plain": [
       "<Figure size 1296x360 with 2 Axes>"
      ]
     },
     "metadata": {
      "needs_background": "light"
     },
     "output_type": "display_data"
    }
   ],
   "source": [
    "\n",
    "sns.heatmap(correlation,annot=True,cmap='CMRmap_r')\n",
    "plt.rcParams[\"figure.figsize\"]=(5,5)"
   ]
  },
  {
   "cell_type": "markdown",
   "id": "d0ebe44c",
   "metadata": {
    "papermill": {
     "duration": 0.024538,
     "end_time": "2022-06-20T19:08:33.014319",
     "exception": false,
     "start_time": "2022-06-20T19:08:32.989781",
     "status": "completed"
    },
    "tags": []
   },
   "source": [
    "**CLEANING THE DUPLICATED DATA**"
   ]
  },
  {
   "cell_type": "code",
   "execution_count": 23,
   "id": "1ce10634",
   "metadata": {
    "execution": {
     "iopub.execute_input": "2022-06-20T19:08:33.080012Z",
     "iopub.status.busy": "2022-06-20T19:08:33.079378Z",
     "iopub.status.idle": "2022-06-20T19:08:33.093418Z",
     "shell.execute_reply": "2022-06-20T19:08:33.092752Z"
    },
    "papermill": {
     "duration": 0.056306,
     "end_time": "2022-06-20T19:08:33.095315",
     "exception": false,
     "start_time": "2022-06-20T19:08:33.039009",
     "status": "completed"
    },
    "tags": []
   },
   "outputs": [
    {
     "data": {
      "text/html": [
       "<div>\n",
       "<style scoped>\n",
       "    .dataframe tbody tr th:only-of-type {\n",
       "        vertical-align: middle;\n",
       "    }\n",
       "\n",
       "    .dataframe tbody tr th {\n",
       "        vertical-align: top;\n",
       "    }\n",
       "\n",
       "    .dataframe thead th {\n",
       "        text-align: right;\n",
       "    }\n",
       "</style>\n",
       "<table border=\"1\" class=\"dataframe\">\n",
       "  <thead>\n",
       "    <tr style=\"text-align: right;\">\n",
       "      <th></th>\n",
       "      <th>sepal_length</th>\n",
       "      <th>sepal_width</th>\n",
       "      <th>petal_length</th>\n",
       "      <th>petal_width</th>\n",
       "      <th>species</th>\n",
       "    </tr>\n",
       "  </thead>\n",
       "  <tbody>\n",
       "    <tr>\n",
       "      <th>34</th>\n",
       "      <td>4.9</td>\n",
       "      <td>3.1</td>\n",
       "      <td>1.5</td>\n",
       "      <td>0.1</td>\n",
       "      <td>Iris-setosa</td>\n",
       "    </tr>\n",
       "    <tr>\n",
       "      <th>37</th>\n",
       "      <td>4.9</td>\n",
       "      <td>3.1</td>\n",
       "      <td>1.5</td>\n",
       "      <td>0.1</td>\n",
       "      <td>Iris-setosa</td>\n",
       "    </tr>\n",
       "    <tr>\n",
       "      <th>142</th>\n",
       "      <td>5.8</td>\n",
       "      <td>2.7</td>\n",
       "      <td>5.1</td>\n",
       "      <td>1.9</td>\n",
       "      <td>Iris-virginica</td>\n",
       "    </tr>\n",
       "  </tbody>\n",
       "</table>\n",
       "</div>"
      ],
      "text/plain": [
       "     sepal_length  sepal_width  petal_length  petal_width         species\n",
       "34            4.9          3.1           1.5          0.1     Iris-setosa\n",
       "37            4.9          3.1           1.5          0.1     Iris-setosa\n",
       "142           5.8          2.7           5.1          1.9  Iris-virginica"
      ]
     },
     "execution_count": 23,
     "metadata": {},
     "output_type": "execute_result"
    }
   ],
   "source": [
    " dataset_updated[dataset_updated.duplicated()]"
   ]
  },
  {
   "cell_type": "markdown",
   "id": "fc2a6214",
   "metadata": {
    "papermill": {
     "duration": 0.037551,
     "end_time": "2022-06-20T19:08:33.171119",
     "exception": false,
     "start_time": "2022-06-20T19:08:33.133568",
     "status": "completed"
    },
    "tags": []
   },
   "source": [
    "**GEtting the count of duplicate**"
   ]
  },
  {
   "cell_type": "code",
   "execution_count": 24,
   "id": "57327e79",
   "metadata": {
    "execution": {
     "iopub.execute_input": "2022-06-20T19:08:33.249455Z",
     "iopub.status.busy": "2022-06-20T19:08:33.248896Z",
     "iopub.status.idle": "2022-06-20T19:08:33.256899Z",
     "shell.execute_reply": "2022-06-20T19:08:33.256167Z"
    },
    "papermill": {
     "duration": 0.049375,
     "end_time": "2022-06-20T19:08:33.258632",
     "exception": false,
     "start_time": "2022-06-20T19:08:33.209257",
     "status": "completed"
    },
    "tags": []
   },
   "outputs": [
    {
     "data": {
      "text/plain": [
       "False    147\n",
       "True       3\n",
       "dtype: int64"
      ]
     },
     "execution_count": 24,
     "metadata": {},
     "output_type": "execute_result"
    }
   ],
   "source": [
    " dataset_updated.duplicated().value_counts()"
   ]
  },
  {
   "cell_type": "code",
   "execution_count": 25,
   "id": "37bd72e5",
   "metadata": {
    "execution": {
     "iopub.execute_input": "2022-06-20T19:08:33.336680Z",
     "iopub.status.busy": "2022-06-20T19:08:33.336063Z",
     "iopub.status.idle": "2022-06-20T19:08:33.343842Z",
     "shell.execute_reply": "2022-06-20T19:08:33.343020Z"
    },
    "papermill": {
     "duration": 0.049612,
     "end_time": "2022-06-20T19:08:33.346409",
     "exception": false,
     "start_time": "2022-06-20T19:08:33.296797",
     "status": "completed"
    },
    "tags": []
   },
   "outputs": [
    {
     "data": {
      "text/plain": [
       "(147, 5)"
      ]
     },
     "execution_count": 25,
     "metadata": {},
     "output_type": "execute_result"
    }
   ],
   "source": [
    "dataset_updated.drop_duplicates(inplace=True)\n",
    "dataset_updated.shape"
   ]
  },
  {
   "cell_type": "code",
   "execution_count": 26,
   "id": "651bee30",
   "metadata": {
    "execution": {
     "iopub.execute_input": "2022-06-20T19:08:33.412548Z",
     "iopub.status.busy": "2022-06-20T19:08:33.411580Z",
     "iopub.status.idle": "2022-06-20T19:08:33.419515Z",
     "shell.execute_reply": "2022-06-20T19:08:33.418909Z"
    },
    "papermill": {
     "duration": 0.036459,
     "end_time": "2022-06-20T19:08:33.421406",
     "exception": false,
     "start_time": "2022-06-20T19:08:33.384947",
     "status": "completed"
    },
    "tags": []
   },
   "outputs": [
    {
     "data": {
      "text/plain": [
       "False"
      ]
     },
     "execution_count": 26,
     "metadata": {},
     "output_type": "execute_result"
    }
   ],
   "source": [
    " dataset_updated.duplicated().any()"
   ]
  },
  {
   "cell_type": "markdown",
   "id": "de64d8d2",
   "metadata": {
    "papermill": {
     "duration": 0.037985,
     "end_time": "2022-06-20T19:08:33.498811",
     "exception": false,
     "start_time": "2022-06-20T19:08:33.460826",
     "status": "completed"
    },
    "tags": []
   },
   "source": [
    "**HERE WE CAN SEE THAT DUPLICATED DATA HAS BEEN REMOVED**"
   ]
  },
  {
   "cell_type": "markdown",
   "id": "8ada9d0b",
   "metadata": {
    "papermill": {
     "duration": 0.037636,
     "end_time": "2022-06-20T19:08:33.574638",
     "exception": false,
     "start_time": "2022-06-20T19:08:33.537002",
     "status": "completed"
    },
    "tags": []
   },
   "source": [
    "# MODEL IMPLEMENTATION"
   ]
  },
  {
   "cell_type": "code",
   "execution_count": 27,
   "id": "ea363ee9",
   "metadata": {
    "execution": {
     "iopub.execute_input": "2022-06-20T19:08:33.652596Z",
     "iopub.status.busy": "2022-06-20T19:08:33.652138Z",
     "iopub.status.idle": "2022-06-20T19:08:33.969003Z",
     "shell.execute_reply": "2022-06-20T19:08:33.968074Z"
    },
    "papermill": {
     "duration": 0.35801,
     "end_time": "2022-06-20T19:08:33.971085",
     "exception": false,
     "start_time": "2022-06-20T19:08:33.613075",
     "status": "completed"
    },
    "tags": []
   },
   "outputs": [],
   "source": [
    "from sklearn.model_selection import train_test_split\n",
    "from sklearn.tree import DecisionTreeClassifier\n",
    "\n",
    "\n",
    "from sklearn.linear_model import LogisticRegression\n",
    "from sklearn.neighbors import KNeighborsClassifier\n",
    "from sklearn.naive_bayes import GaussianNB\n",
    "from sklearn.preprocessing import PolynomialFeatures \n",
    "from sklearn import svm\n",
    "from sklearn.metrics import classification_report"
   ]
  },
  {
   "cell_type": "markdown",
   "id": "fa8f7e41",
   "metadata": {
    "papermill": {
     "duration": 0.02415,
     "end_time": "2022-06-20T19:08:34.020361",
     "exception": false,
     "start_time": "2022-06-20T19:08:33.996211",
     "status": "completed"
    },
    "tags": []
   },
   "source": [
    " # **first we need to process label encoder for species**\n",
    ">  from sklearn import preprocessing\n",
    "\n",
    "1.  iris-setosa\n",
    "1.  iris-versicolor\n",
    "1.  iris-virginica\n",
    "\n",
    "**Need to convert this non -numeric value into numeric value which are understand by machine and used for training the model**"
   ]
  },
  {
   "cell_type": "code",
   "execution_count": 28,
   "id": "077c8608",
   "metadata": {
    "execution": {
     "iopub.execute_input": "2022-06-20T19:08:34.070453Z",
     "iopub.status.busy": "2022-06-20T19:08:34.070067Z",
     "iopub.status.idle": "2022-06-20T19:08:34.077636Z",
     "shell.execute_reply": "2022-06-20T19:08:34.077166Z"
    },
    "papermill": {
     "duration": 0.034352,
     "end_time": "2022-06-20T19:08:34.079227",
     "exception": false,
     "start_time": "2022-06-20T19:08:34.044875",
     "status": "completed"
    },
    "tags": []
   },
   "outputs": [
    {
     "data": {
      "text/plain": [
       "array([0, 1, 2])"
      ]
     },
     "execution_count": 28,
     "metadata": {},
     "output_type": "execute_result"
    }
   ],
   "source": [
    "from sklearn import preprocessing\n",
    "label_encoder =preprocessing.LabelEncoder()\n",
    "dataset_updated['species']= label_encoder.fit_transform(dataset_updated['species'])\n",
    "  \n",
    "dataset_updated['species'].unique()"
   ]
  },
  {
   "cell_type": "markdown",
   "id": "74bd18aa",
   "metadata": {
    "papermill": {
     "duration": 0.023778,
     "end_time": "2022-06-20T19:08:34.127937",
     "exception": false,
     "start_time": "2022-06-20T19:08:34.104159",
     "status": "completed"
    },
    "tags": []
   },
   "source": [
    "**Now the value of this species has been converted into array**\n",
    "1.  iris-setosa      **==0**\n",
    "1.  iris-versicolor  **==1**\n",
    "1.  iris-virginica   **==2**"
   ]
  },
  {
   "cell_type": "code",
   "execution_count": 29,
   "id": "ba09da38",
   "metadata": {
    "execution": {
     "iopub.execute_input": "2022-06-20T19:08:34.178379Z",
     "iopub.status.busy": "2022-06-20T19:08:34.178040Z",
     "iopub.status.idle": "2022-06-20T19:08:34.184184Z",
     "shell.execute_reply": "2022-06-20T19:08:34.183313Z"
    },
    "papermill": {
     "duration": 0.033536,
     "end_time": "2022-06-20T19:08:34.185857",
     "exception": false,
     "start_time": "2022-06-20T19:08:34.152321",
     "status": "completed"
    },
    "tags": []
   },
   "outputs": [
    {
     "data": {
      "text/plain": [
       "0    0\n",
       "1    0\n",
       "2    0\n",
       "3    0\n",
       "4    0\n",
       "Name: species, dtype: int64"
      ]
     },
     "execution_count": 29,
     "metadata": {},
     "output_type": "execute_result"
    }
   ],
   "source": [
    "dataset_updated[\"species\"].head()"
   ]
  },
  {
   "cell_type": "markdown",
   "id": "018348bf",
   "metadata": {
    "papermill": {
     "duration": 0.024532,
     "end_time": "2022-06-20T19:08:34.235589",
     "exception": false,
     "start_time": "2022-06-20T19:08:34.211057",
     "status": "completed"
    },
    "tags": []
   },
   "source": [
    "**Splitting the data**"
   ]
  },
  {
   "cell_type": "code",
   "execution_count": 30,
   "id": "82feea62",
   "metadata": {
    "execution": {
     "iopub.execute_input": "2022-06-20T19:08:34.286899Z",
     "iopub.status.busy": "2022-06-20T19:08:34.286515Z",
     "iopub.status.idle": "2022-06-20T19:08:34.291173Z",
     "shell.execute_reply": "2022-06-20T19:08:34.290149Z"
    },
    "papermill": {
     "duration": 0.032471,
     "end_time": "2022-06-20T19:08:34.292773",
     "exception": false,
     "start_time": "2022-06-20T19:08:34.260302",
     "status": "completed"
    },
    "tags": []
   },
   "outputs": [],
   "source": [
    "from sklearn.model_selection  import train_test_split"
   ]
  },
  {
   "cell_type": "code",
   "execution_count": 31,
   "id": "2e232064",
   "metadata": {
    "execution": {
     "iopub.execute_input": "2022-06-20T19:08:34.344363Z",
     "iopub.status.busy": "2022-06-20T19:08:34.343945Z",
     "iopub.status.idle": "2022-06-20T19:08:34.348753Z",
     "shell.execute_reply": "2022-06-20T19:08:34.348252Z"
    },
    "papermill": {
     "duration": 0.032701,
     "end_time": "2022-06-20T19:08:34.350250",
     "exception": false,
     "start_time": "2022-06-20T19:08:34.317549",
     "status": "completed"
    },
    "tags": []
   },
   "outputs": [],
   "source": [
    "x = dataset_updated.drop(['species'],axis=1)\n",
    "# independent variable"
   ]
  },
  {
   "cell_type": "code",
   "execution_count": 32,
   "id": "b3a24630",
   "metadata": {
    "execution": {
     "iopub.execute_input": "2022-06-20T19:08:34.401795Z",
     "iopub.status.busy": "2022-06-20T19:08:34.401300Z",
     "iopub.status.idle": "2022-06-20T19:08:34.404571Z",
     "shell.execute_reply": "2022-06-20T19:08:34.404078Z"
    },
    "papermill": {
     "duration": 0.031267,
     "end_time": "2022-06-20T19:08:34.406586",
     "exception": false,
     "start_time": "2022-06-20T19:08:34.375319",
     "status": "completed"
    },
    "tags": []
   },
   "outputs": [],
   "source": [
    "# independent variable\n",
    "y = dataset_updated['species']"
   ]
  },
  {
   "cell_type": "code",
   "execution_count": 33,
   "id": "b54dd369",
   "metadata": {
    "execution": {
     "iopub.execute_input": "2022-06-20T19:08:34.458312Z",
     "iopub.status.busy": "2022-06-20T19:08:34.457870Z",
     "iopub.status.idle": "2022-06-20T19:08:34.462550Z",
     "shell.execute_reply": "2022-06-20T19:08:34.462054Z"
    },
    "papermill": {
     "duration": 0.031838,
     "end_time": "2022-06-20T19:08:34.464032",
     "exception": false,
     "start_time": "2022-06-20T19:08:34.432194",
     "status": "completed"
    },
    "tags": []
   },
   "outputs": [],
   "source": [
    "x_sepal_train,x_sepal_test,y_species_train,y_species_test = train_test_split(x,y,random_state=0,test_size=0.3)"
   ]
  },
  {
   "cell_type": "code",
   "execution_count": 34,
   "id": "c577f547",
   "metadata": {
    "execution": {
     "iopub.execute_input": "2022-06-20T19:08:34.515514Z",
     "iopub.status.busy": "2022-06-20T19:08:34.514677Z",
     "iopub.status.idle": "2022-06-20T19:08:34.520464Z",
     "shell.execute_reply": "2022-06-20T19:08:34.519756Z"
    },
    "papermill": {
     "duration": 0.033057,
     "end_time": "2022-06-20T19:08:34.521961",
     "exception": false,
     "start_time": "2022-06-20T19:08:34.488904",
     "status": "completed"
    },
    "tags": []
   },
   "outputs": [
    {
     "data": {
      "text/plain": [
       "((102, 4), (45, 4), (102,), (45,))"
      ]
     },
     "execution_count": 34,
     "metadata": {},
     "output_type": "execute_result"
    }
   ],
   "source": [
    "x_sepal_train.shape, x_sepal_test.shape, y_species_train.shape, y_species_test.shape"
   ]
  },
  {
   "cell_type": "code",
   "execution_count": 35,
   "id": "b061431f",
   "metadata": {
    "execution": {
     "iopub.execute_input": "2022-06-20T19:08:34.573211Z",
     "iopub.status.busy": "2022-06-20T19:08:34.572541Z",
     "iopub.status.idle": "2022-06-20T19:08:34.589205Z",
     "shell.execute_reply": "2022-06-20T19:08:34.588425Z"
    },
    "papermill": {
     "duration": 0.044329,
     "end_time": "2022-06-20T19:08:34.590770",
     "exception": false,
     "start_time": "2022-06-20T19:08:34.546441",
     "status": "completed"
    },
    "tags": []
   },
   "outputs": [
    {
     "data": {
      "text/html": [
       "<div>\n",
       "<style scoped>\n",
       "    .dataframe tbody tr th:only-of-type {\n",
       "        vertical-align: middle;\n",
       "    }\n",
       "\n",
       "    .dataframe tbody tr th {\n",
       "        vertical-align: top;\n",
       "    }\n",
       "\n",
       "    .dataframe thead th {\n",
       "        text-align: right;\n",
       "    }\n",
       "</style>\n",
       "<table border=\"1\" class=\"dataframe\">\n",
       "  <thead>\n",
       "    <tr style=\"text-align: right;\">\n",
       "      <th></th>\n",
       "      <th>sepal_length</th>\n",
       "      <th>sepal_width</th>\n",
       "      <th>petal_length</th>\n",
       "      <th>petal_width</th>\n",
       "    </tr>\n",
       "  </thead>\n",
       "  <tbody>\n",
       "    <tr>\n",
       "      <th>140</th>\n",
       "      <td>6.7</td>\n",
       "      <td>3.1</td>\n",
       "      <td>5.6</td>\n",
       "      <td>2.4</td>\n",
       "    </tr>\n",
       "    <tr>\n",
       "      <th>116</th>\n",
       "      <td>6.5</td>\n",
       "      <td>3.0</td>\n",
       "      <td>5.5</td>\n",
       "      <td>1.8</td>\n",
       "    </tr>\n",
       "    <tr>\n",
       "      <th>99</th>\n",
       "      <td>5.7</td>\n",
       "      <td>2.8</td>\n",
       "      <td>4.1</td>\n",
       "      <td>1.3</td>\n",
       "    </tr>\n",
       "    <tr>\n",
       "      <th>96</th>\n",
       "      <td>5.7</td>\n",
       "      <td>2.9</td>\n",
       "      <td>4.2</td>\n",
       "      <td>1.3</td>\n",
       "    </tr>\n",
       "    <tr>\n",
       "      <th>62</th>\n",
       "      <td>6.0</td>\n",
       "      <td>2.2</td>\n",
       "      <td>4.0</td>\n",
       "      <td>1.0</td>\n",
       "    </tr>\n",
       "    <tr>\n",
       "      <th>...</th>\n",
       "      <td>...</td>\n",
       "      <td>...</td>\n",
       "      <td>...</td>\n",
       "      <td>...</td>\n",
       "    </tr>\n",
       "    <tr>\n",
       "      <th>9</th>\n",
       "      <td>4.9</td>\n",
       "      <td>3.1</td>\n",
       "      <td>1.5</td>\n",
       "      <td>0.1</td>\n",
       "    </tr>\n",
       "    <tr>\n",
       "      <th>105</th>\n",
       "      <td>7.6</td>\n",
       "      <td>3.0</td>\n",
       "      <td>6.6</td>\n",
       "      <td>2.1</td>\n",
       "    </tr>\n",
       "    <tr>\n",
       "      <th>69</th>\n",
       "      <td>5.6</td>\n",
       "      <td>2.5</td>\n",
       "      <td>3.9</td>\n",
       "      <td>1.1</td>\n",
       "    </tr>\n",
       "    <tr>\n",
       "      <th>119</th>\n",
       "      <td>6.0</td>\n",
       "      <td>2.2</td>\n",
       "      <td>5.0</td>\n",
       "      <td>1.5</td>\n",
       "    </tr>\n",
       "    <tr>\n",
       "      <th>49</th>\n",
       "      <td>5.0</td>\n",
       "      <td>3.3</td>\n",
       "      <td>1.4</td>\n",
       "      <td>0.2</td>\n",
       "    </tr>\n",
       "  </tbody>\n",
       "</table>\n",
       "<p>102 rows × 4 columns</p>\n",
       "</div>"
      ],
      "text/plain": [
       "     sepal_length  sepal_width  petal_length  petal_width\n",
       "140           6.7          3.1           5.6          2.4\n",
       "116           6.5          3.0           5.5          1.8\n",
       "99            5.7          2.8           4.1          1.3\n",
       "96            5.7          2.9           4.2          1.3\n",
       "62            6.0          2.2           4.0          1.0\n",
       "..            ...          ...           ...          ...\n",
       "9             4.9          3.1           1.5          0.1\n",
       "105           7.6          3.0           6.6          2.1\n",
       "69            5.6          2.5           3.9          1.1\n",
       "119           6.0          2.2           5.0          1.5\n",
       "49            5.0          3.3           1.4          0.2\n",
       "\n",
       "[102 rows x 4 columns]"
      ]
     },
     "execution_count": 35,
     "metadata": {},
     "output_type": "execute_result"
    }
   ],
   "source": [
    "x_sepal_train"
   ]
  },
  {
   "cell_type": "code",
   "execution_count": 36,
   "id": "df5f6ddd",
   "metadata": {
    "execution": {
     "iopub.execute_input": "2022-06-20T19:08:34.641810Z",
     "iopub.status.busy": "2022-06-20T19:08:34.641443Z",
     "iopub.status.idle": "2022-06-20T19:08:34.662275Z",
     "shell.execute_reply": "2022-06-20T19:08:34.661514Z"
    },
    "papermill": {
     "duration": 0.048239,
     "end_time": "2022-06-20T19:08:34.663786",
     "exception": false,
     "start_time": "2022-06-20T19:08:34.615547",
     "status": "completed"
    },
    "tags": []
   },
   "outputs": [
    {
     "data": {
      "text/html": [
       "<div>\n",
       "<style scoped>\n",
       "    .dataframe tbody tr th:only-of-type {\n",
       "        vertical-align: middle;\n",
       "    }\n",
       "\n",
       "    .dataframe tbody tr th {\n",
       "        vertical-align: top;\n",
       "    }\n",
       "\n",
       "    .dataframe thead th {\n",
       "        text-align: right;\n",
       "    }\n",
       "</style>\n",
       "<table border=\"1\" class=\"dataframe\">\n",
       "  <thead>\n",
       "    <tr style=\"text-align: right;\">\n",
       "      <th></th>\n",
       "      <th>sepal_length</th>\n",
       "      <th>sepal_width</th>\n",
       "      <th>petal_length</th>\n",
       "      <th>petal_width</th>\n",
       "    </tr>\n",
       "  </thead>\n",
       "  <tbody>\n",
       "    <tr>\n",
       "      <th>7</th>\n",
       "      <td>5.0</td>\n",
       "      <td>3.4</td>\n",
       "      <td>1.5</td>\n",
       "      <td>0.2</td>\n",
       "    </tr>\n",
       "    <tr>\n",
       "      <th>24</th>\n",
       "      <td>4.8</td>\n",
       "      <td>3.4</td>\n",
       "      <td>1.9</td>\n",
       "      <td>0.2</td>\n",
       "    </tr>\n",
       "    <tr>\n",
       "      <th>27</th>\n",
       "      <td>5.2</td>\n",
       "      <td>3.5</td>\n",
       "      <td>1.5</td>\n",
       "      <td>0.2</td>\n",
       "    </tr>\n",
       "    <tr>\n",
       "      <th>122</th>\n",
       "      <td>7.7</td>\n",
       "      <td>2.8</td>\n",
       "      <td>6.7</td>\n",
       "      <td>2.0</td>\n",
       "    </tr>\n",
       "    <tr>\n",
       "      <th>146</th>\n",
       "      <td>6.3</td>\n",
       "      <td>2.5</td>\n",
       "      <td>5.0</td>\n",
       "      <td>1.9</td>\n",
       "    </tr>\n",
       "    <tr>\n",
       "      <th>53</th>\n",
       "      <td>5.5</td>\n",
       "      <td>2.3</td>\n",
       "      <td>4.0</td>\n",
       "      <td>1.3</td>\n",
       "    </tr>\n",
       "    <tr>\n",
       "      <th>45</th>\n",
       "      <td>4.8</td>\n",
       "      <td>3.0</td>\n",
       "      <td>1.4</td>\n",
       "      <td>0.3</td>\n",
       "    </tr>\n",
       "    <tr>\n",
       "      <th>22</th>\n",
       "      <td>4.6</td>\n",
       "      <td>3.6</td>\n",
       "      <td>1.0</td>\n",
       "      <td>0.2</td>\n",
       "    </tr>\n",
       "    <tr>\n",
       "      <th>114</th>\n",
       "      <td>5.8</td>\n",
       "      <td>2.8</td>\n",
       "      <td>5.1</td>\n",
       "      <td>2.4</td>\n",
       "    </tr>\n",
       "    <tr>\n",
       "      <th>26</th>\n",
       "      <td>5.0</td>\n",
       "      <td>3.4</td>\n",
       "      <td>1.6</td>\n",
       "      <td>0.4</td>\n",
       "    </tr>\n",
       "    <tr>\n",
       "      <th>42</th>\n",
       "      <td>4.4</td>\n",
       "      <td>3.2</td>\n",
       "      <td>1.3</td>\n",
       "      <td>0.2</td>\n",
       "    </tr>\n",
       "    <tr>\n",
       "      <th>80</th>\n",
       "      <td>5.5</td>\n",
       "      <td>2.4</td>\n",
       "      <td>3.8</td>\n",
       "      <td>1.1</td>\n",
       "    </tr>\n",
       "    <tr>\n",
       "      <th>133</th>\n",
       "      <td>6.3</td>\n",
       "      <td>2.8</td>\n",
       "      <td>5.1</td>\n",
       "      <td>1.5</td>\n",
       "    </tr>\n",
       "    <tr>\n",
       "      <th>64</th>\n",
       "      <td>5.6</td>\n",
       "      <td>2.9</td>\n",
       "      <td>3.6</td>\n",
       "      <td>1.3</td>\n",
       "    </tr>\n",
       "    <tr>\n",
       "      <th>73</th>\n",
       "      <td>6.1</td>\n",
       "      <td>2.8</td>\n",
       "      <td>4.7</td>\n",
       "      <td>1.2</td>\n",
       "    </tr>\n",
       "    <tr>\n",
       "      <th>93</th>\n",
       "      <td>5.0</td>\n",
       "      <td>2.3</td>\n",
       "      <td>3.3</td>\n",
       "      <td>1.0</td>\n",
       "    </tr>\n",
       "    <tr>\n",
       "      <th>16</th>\n",
       "      <td>5.4</td>\n",
       "      <td>3.9</td>\n",
       "      <td>1.3</td>\n",
       "      <td>0.4</td>\n",
       "    </tr>\n",
       "    <tr>\n",
       "      <th>56</th>\n",
       "      <td>6.3</td>\n",
       "      <td>3.3</td>\n",
       "      <td>4.7</td>\n",
       "      <td>1.6</td>\n",
       "    </tr>\n",
       "    <tr>\n",
       "      <th>100</th>\n",
       "      <td>6.3</td>\n",
       "      <td>3.3</td>\n",
       "      <td>6.0</td>\n",
       "      <td>2.5</td>\n",
       "    </tr>\n",
       "    <tr>\n",
       "      <th>8</th>\n",
       "      <td>4.4</td>\n",
       "      <td>2.9</td>\n",
       "      <td>1.4</td>\n",
       "      <td>0.2</td>\n",
       "    </tr>\n",
       "    <tr>\n",
       "      <th>91</th>\n",
       "      <td>6.1</td>\n",
       "      <td>3.0</td>\n",
       "      <td>4.6</td>\n",
       "      <td>1.4</td>\n",
       "    </tr>\n",
       "    <tr>\n",
       "      <th>39</th>\n",
       "      <td>5.1</td>\n",
       "      <td>3.4</td>\n",
       "      <td>1.5</td>\n",
       "      <td>0.2</td>\n",
       "    </tr>\n",
       "    <tr>\n",
       "      <th>148</th>\n",
       "      <td>6.2</td>\n",
       "      <td>3.4</td>\n",
       "      <td>5.4</td>\n",
       "      <td>2.3</td>\n",
       "    </tr>\n",
       "    <tr>\n",
       "      <th>86</th>\n",
       "      <td>6.7</td>\n",
       "      <td>3.1</td>\n",
       "      <td>4.7</td>\n",
       "      <td>1.5</td>\n",
       "    </tr>\n",
       "    <tr>\n",
       "      <th>120</th>\n",
       "      <td>6.9</td>\n",
       "      <td>3.2</td>\n",
       "      <td>5.7</td>\n",
       "      <td>2.3</td>\n",
       "    </tr>\n",
       "    <tr>\n",
       "      <th>33</th>\n",
       "      <td>5.5</td>\n",
       "      <td>4.2</td>\n",
       "      <td>1.4</td>\n",
       "      <td>0.2</td>\n",
       "    </tr>\n",
       "    <tr>\n",
       "      <th>147</th>\n",
       "      <td>6.5</td>\n",
       "      <td>3.0</td>\n",
       "      <td>5.2</td>\n",
       "      <td>2.0</td>\n",
       "    </tr>\n",
       "    <tr>\n",
       "      <th>92</th>\n",
       "      <td>5.8</td>\n",
       "      <td>2.6</td>\n",
       "      <td>4.0</td>\n",
       "      <td>1.2</td>\n",
       "    </tr>\n",
       "    <tr>\n",
       "      <th>85</th>\n",
       "      <td>6.0</td>\n",
       "      <td>3.4</td>\n",
       "      <td>4.5</td>\n",
       "      <td>1.6</td>\n",
       "    </tr>\n",
       "    <tr>\n",
       "      <th>107</th>\n",
       "      <td>7.3</td>\n",
       "      <td>2.9</td>\n",
       "      <td>6.3</td>\n",
       "      <td>1.8</td>\n",
       "    </tr>\n",
       "    <tr>\n",
       "      <th>78</th>\n",
       "      <td>6.0</td>\n",
       "      <td>2.9</td>\n",
       "      <td>4.5</td>\n",
       "      <td>1.5</td>\n",
       "    </tr>\n",
       "    <tr>\n",
       "      <th>18</th>\n",
       "      <td>5.7</td>\n",
       "      <td>3.8</td>\n",
       "      <td>1.7</td>\n",
       "      <td>0.3</td>\n",
       "    </tr>\n",
       "    <tr>\n",
       "      <th>47</th>\n",
       "      <td>4.6</td>\n",
       "      <td>3.2</td>\n",
       "      <td>1.4</td>\n",
       "      <td>0.2</td>\n",
       "    </tr>\n",
       "    <tr>\n",
       "      <th>52</th>\n",
       "      <td>6.9</td>\n",
       "      <td>3.1</td>\n",
       "      <td>4.9</td>\n",
       "      <td>1.5</td>\n",
       "    </tr>\n",
       "    <tr>\n",
       "      <th>46</th>\n",
       "      <td>5.1</td>\n",
       "      <td>3.8</td>\n",
       "      <td>1.6</td>\n",
       "      <td>0.2</td>\n",
       "    </tr>\n",
       "    <tr>\n",
       "      <th>2</th>\n",
       "      <td>4.7</td>\n",
       "      <td>3.2</td>\n",
       "      <td>1.3</td>\n",
       "      <td>0.2</td>\n",
       "    </tr>\n",
       "    <tr>\n",
       "      <th>65</th>\n",
       "      <td>6.7</td>\n",
       "      <td>3.1</td>\n",
       "      <td>4.4</td>\n",
       "      <td>1.4</td>\n",
       "    </tr>\n",
       "    <tr>\n",
       "      <th>10</th>\n",
       "      <td>5.4</td>\n",
       "      <td>3.7</td>\n",
       "      <td>1.5</td>\n",
       "      <td>0.2</td>\n",
       "    </tr>\n",
       "    <tr>\n",
       "      <th>134</th>\n",
       "      <td>6.1</td>\n",
       "      <td>2.6</td>\n",
       "      <td>5.6</td>\n",
       "      <td>1.4</td>\n",
       "    </tr>\n",
       "    <tr>\n",
       "      <th>109</th>\n",
       "      <td>7.2</td>\n",
       "      <td>3.6</td>\n",
       "      <td>6.1</td>\n",
       "      <td>2.5</td>\n",
       "    </tr>\n",
       "    <tr>\n",
       "      <th>61</th>\n",
       "      <td>5.9</td>\n",
       "      <td>3.0</td>\n",
       "      <td>4.2</td>\n",
       "      <td>1.5</td>\n",
       "    </tr>\n",
       "    <tr>\n",
       "      <th>112</th>\n",
       "      <td>6.8</td>\n",
       "      <td>3.0</td>\n",
       "      <td>5.5</td>\n",
       "      <td>2.1</td>\n",
       "    </tr>\n",
       "    <tr>\n",
       "      <th>63</th>\n",
       "      <td>6.1</td>\n",
       "      <td>2.9</td>\n",
       "      <td>4.7</td>\n",
       "      <td>1.4</td>\n",
       "    </tr>\n",
       "    <tr>\n",
       "      <th>75</th>\n",
       "      <td>6.6</td>\n",
       "      <td>3.0</td>\n",
       "      <td>4.4</td>\n",
       "      <td>1.4</td>\n",
       "    </tr>\n",
       "    <tr>\n",
       "      <th>125</th>\n",
       "      <td>7.2</td>\n",
       "      <td>3.2</td>\n",
       "      <td>6.0</td>\n",
       "      <td>1.8</td>\n",
       "    </tr>\n",
       "  </tbody>\n",
       "</table>\n",
       "</div>"
      ],
      "text/plain": [
       "     sepal_length  sepal_width  petal_length  petal_width\n",
       "7             5.0          3.4           1.5          0.2\n",
       "24            4.8          3.4           1.9          0.2\n",
       "27            5.2          3.5           1.5          0.2\n",
       "122           7.7          2.8           6.7          2.0\n",
       "146           6.3          2.5           5.0          1.9\n",
       "53            5.5          2.3           4.0          1.3\n",
       "45            4.8          3.0           1.4          0.3\n",
       "22            4.6          3.6           1.0          0.2\n",
       "114           5.8          2.8           5.1          2.4\n",
       "26            5.0          3.4           1.6          0.4\n",
       "42            4.4          3.2           1.3          0.2\n",
       "80            5.5          2.4           3.8          1.1\n",
       "133           6.3          2.8           5.1          1.5\n",
       "64            5.6          2.9           3.6          1.3\n",
       "73            6.1          2.8           4.7          1.2\n",
       "93            5.0          2.3           3.3          1.0\n",
       "16            5.4          3.9           1.3          0.4\n",
       "56            6.3          3.3           4.7          1.6\n",
       "100           6.3          3.3           6.0          2.5\n",
       "8             4.4          2.9           1.4          0.2\n",
       "91            6.1          3.0           4.6          1.4\n",
       "39            5.1          3.4           1.5          0.2\n",
       "148           6.2          3.4           5.4          2.3\n",
       "86            6.7          3.1           4.7          1.5\n",
       "120           6.9          3.2           5.7          2.3\n",
       "33            5.5          4.2           1.4          0.2\n",
       "147           6.5          3.0           5.2          2.0\n",
       "92            5.8          2.6           4.0          1.2\n",
       "85            6.0          3.4           4.5          1.6\n",
       "107           7.3          2.9           6.3          1.8\n",
       "78            6.0          2.9           4.5          1.5\n",
       "18            5.7          3.8           1.7          0.3\n",
       "47            4.6          3.2           1.4          0.2\n",
       "52            6.9          3.1           4.9          1.5\n",
       "46            5.1          3.8           1.6          0.2\n",
       "2             4.7          3.2           1.3          0.2\n",
       "65            6.7          3.1           4.4          1.4\n",
       "10            5.4          3.7           1.5          0.2\n",
       "134           6.1          2.6           5.6          1.4\n",
       "109           7.2          3.6           6.1          2.5\n",
       "61            5.9          3.0           4.2          1.5\n",
       "112           6.8          3.0           5.5          2.1\n",
       "63            6.1          2.9           4.7          1.4\n",
       "75            6.6          3.0           4.4          1.4\n",
       "125           7.2          3.2           6.0          1.8"
      ]
     },
     "execution_count": 36,
     "metadata": {},
     "output_type": "execute_result"
    }
   ],
   "source": [
    "x_sepal_test"
   ]
  },
  {
   "cell_type": "code",
   "execution_count": 37,
   "id": "4e4da724",
   "metadata": {
    "execution": {
     "iopub.execute_input": "2022-06-20T19:08:34.717661Z",
     "iopub.status.busy": "2022-06-20T19:08:34.717291Z",
     "iopub.status.idle": "2022-06-20T19:08:34.724951Z",
     "shell.execute_reply": "2022-06-20T19:08:34.724018Z"
    },
    "papermill": {
     "duration": 0.03731,
     "end_time": "2022-06-20T19:08:34.727108",
     "exception": false,
     "start_time": "2022-06-20T19:08:34.689798",
     "status": "completed"
    },
    "tags": []
   },
   "outputs": [
    {
     "data": {
      "text/plain": [
       "140    2\n",
       "116    2\n",
       "99     1\n",
       "96     1\n",
       "62     1\n",
       "      ..\n",
       "9      0\n",
       "105    2\n",
       "69     1\n",
       "119    2\n",
       "49     0\n",
       "Name: species, Length: 102, dtype: int64"
      ]
     },
     "execution_count": 37,
     "metadata": {},
     "output_type": "execute_result"
    }
   ],
   "source": [
    "y_species_train"
   ]
  },
  {
   "cell_type": "code",
   "execution_count": 38,
   "id": "7b0b2892",
   "metadata": {
    "execution": {
     "iopub.execute_input": "2022-06-20T19:08:34.808408Z",
     "iopub.status.busy": "2022-06-20T19:08:34.808069Z",
     "iopub.status.idle": "2022-06-20T19:08:34.813414Z",
     "shell.execute_reply": "2022-06-20T19:08:34.812877Z"
    },
    "papermill": {
     "duration": 0.048538,
     "end_time": "2022-06-20T19:08:34.815769",
     "exception": false,
     "start_time": "2022-06-20T19:08:34.767231",
     "status": "completed"
    },
    "tags": []
   },
   "outputs": [
    {
     "data": {
      "text/plain": [
       "7      0\n",
       "24     0\n",
       "27     0\n",
       "122    2\n",
       "146    2\n",
       "53     1\n",
       "45     0\n",
       "22     0\n",
       "114    2\n",
       "26     0\n",
       "42     0\n",
       "80     1\n",
       "133    2\n",
       "64     1\n",
       "73     1\n",
       "93     1\n",
       "16     0\n",
       "56     1\n",
       "100    2\n",
       "8      0\n",
       "91     1\n",
       "39     0\n",
       "148    2\n",
       "86     1\n",
       "120    2\n",
       "33     0\n",
       "147    2\n",
       "92     1\n",
       "85     1\n",
       "107    2\n",
       "78     1\n",
       "18     0\n",
       "47     0\n",
       "52     1\n",
       "46     0\n",
       "2      0\n",
       "65     1\n",
       "10     0\n",
       "134    2\n",
       "109    2\n",
       "61     1\n",
       "112    2\n",
       "63     1\n",
       "75     1\n",
       "125    2\n",
       "Name: species, dtype: int64"
      ]
     },
     "execution_count": 38,
     "metadata": {},
     "output_type": "execute_result"
    }
   ],
   "source": [
    "y_species_test"
   ]
  },
  {
   "cell_type": "markdown",
   "id": "8a6dbbae",
   "metadata": {
    "papermill": {
     "duration": 0.040094,
     "end_time": "2022-06-20T19:08:34.896594",
     "exception": false,
     "start_time": "2022-06-20T19:08:34.856500",
     "status": "completed"
    },
    "tags": []
   },
   "source": [
    "# **Supervised linear regression algorithms**"
   ]
  },
  {
   "cell_type": "markdown",
   "id": "baa974e5",
   "metadata": {
    "papermill": {
     "duration": 0.040411,
     "end_time": "2022-06-20T19:08:34.977435",
     "exception": false,
     "start_time": "2022-06-20T19:08:34.937024",
     "status": "completed"
    },
    "tags": []
   },
   "source": [
    "**Simple Linear regression is a basic and commonly used type of predictive analysis.**\n",
    "\n"
   ]
  },
  {
   "cell_type": "code",
   "execution_count": 39,
   "id": "76dc5a87",
   "metadata": {
    "execution": {
     "iopub.execute_input": "2022-06-20T19:08:35.059620Z",
     "iopub.status.busy": "2022-06-20T19:08:35.059300Z",
     "iopub.status.idle": "2022-06-20T19:08:35.062466Z",
     "shell.execute_reply": "2022-06-20T19:08:35.061965Z"
    },
    "papermill": {
     "duration": 0.046417,
     "end_time": "2022-06-20T19:08:35.064147",
     "exception": false,
     "start_time": "2022-06-20T19:08:35.017730",
     "status": "completed"
    },
    "tags": []
   },
   "outputs": [],
   "source": [
    "from sklearn.linear_model import LinearRegression"
   ]
  },
  {
   "cell_type": "code",
   "execution_count": 40,
   "id": "082f293e",
   "metadata": {
    "execution": {
     "iopub.execute_input": "2022-06-20T19:08:35.146272Z",
     "iopub.status.busy": "2022-06-20T19:08:35.145952Z",
     "iopub.status.idle": "2022-06-20T19:08:35.149151Z",
     "shell.execute_reply": "2022-06-20T19:08:35.148629Z"
    },
    "papermill": {
     "duration": 0.04582,
     "end_time": "2022-06-20T19:08:35.150802",
     "exception": false,
     "start_time": "2022-06-20T19:08:35.104982",
     "status": "completed"
    },
    "tags": []
   },
   "outputs": [],
   "source": [
    "model=LinearRegression()"
   ]
  },
  {
   "cell_type": "code",
   "execution_count": 41,
   "id": "f6679165",
   "metadata": {
    "execution": {
     "iopub.execute_input": "2022-06-20T19:08:35.231652Z",
     "iopub.status.busy": "2022-06-20T19:08:35.231142Z",
     "iopub.status.idle": "2022-06-20T19:08:35.248256Z",
     "shell.execute_reply": "2022-06-20T19:08:35.247721Z"
    },
    "papermill": {
     "duration": 0.059721,
     "end_time": "2022-06-20T19:08:35.250191",
     "exception": false,
     "start_time": "2022-06-20T19:08:35.190470",
     "status": "completed"
    },
    "tags": []
   },
   "outputs": [],
   "source": [
    "#feed data into model\n",
    "model.fit(x_sepal_train,y_species_train)\n",
    "y_species_predicted=model.predict(x_sepal_test)\n"
   ]
  },
  {
   "cell_type": "code",
   "execution_count": 42,
   "id": "e0c92017",
   "metadata": {
    "execution": {
     "iopub.execute_input": "2022-06-20T19:08:35.330990Z",
     "iopub.status.busy": "2022-06-20T19:08:35.330445Z",
     "iopub.status.idle": "2022-06-20T19:08:35.333670Z",
     "shell.execute_reply": "2022-06-20T19:08:35.333191Z"
    },
    "papermill": {
     "duration": 0.045408,
     "end_time": "2022-06-20T19:08:35.335298",
     "exception": false,
     "start_time": "2022-06-20T19:08:35.289890",
     "status": "completed"
    },
    "tags": []
   },
   "outputs": [],
   "source": [
    "from sklearn.metrics import accuracy_score"
   ]
  },
  {
   "cell_type": "code",
   "execution_count": 43,
   "id": "049457c4",
   "metadata": {
    "execution": {
     "iopub.execute_input": "2022-06-20T19:08:35.417466Z",
     "iopub.status.busy": "2022-06-20T19:08:35.417003Z",
     "iopub.status.idle": "2022-06-20T19:08:35.422685Z",
     "shell.execute_reply": "2022-06-20T19:08:35.422195Z"
    },
    "papermill": {
     "duration": 0.048795,
     "end_time": "2022-06-20T19:08:35.424374",
     "exception": false,
     "start_time": "2022-06-20T19:08:35.375579",
     "status": "completed"
    },
    "tags": []
   },
   "outputs": [
    {
     "name": "stdout",
     "output_type": "stream",
     "text": [
      "Accuracy:  92.44  %\n"
     ]
    }
   ],
   "source": [
    "sc_lr = round(model.score(x_sepal_test, y_species_test) * 100 , 2)\n",
    "\n",
    "print(\"Accuracy: \", str(sc_lr) , \" %\" )"
   ]
  },
  {
   "cell_type": "code",
   "execution_count": 44,
   "id": "3bd8c8b8",
   "metadata": {
    "execution": {
     "iopub.execute_input": "2022-06-20T19:08:35.478204Z",
     "iopub.status.busy": "2022-06-20T19:08:35.477673Z",
     "iopub.status.idle": "2022-06-20T19:08:35.482875Z",
     "shell.execute_reply": "2022-06-20T19:08:35.481961Z"
    },
    "papermill": {
     "duration": 0.034089,
     "end_time": "2022-06-20T19:08:35.485016",
     "exception": false,
     "start_time": "2022-06-20T19:08:35.450927",
     "status": "completed"
    },
    "tags": []
   },
   "outputs": [
    {
     "name": "stdout",
     "output_type": "stream",
     "text": [
      "0.15161053466234198\n",
      "[-0.10055422 -0.03511623  0.18486627  0.71262547]\n"
     ]
    }
   ],
   "source": [
    "print(model.intercept_)\n",
    "print(model.coef_)\n"
   ]
  },
  {
   "cell_type": "code",
   "execution_count": 45,
   "id": "fd8c4424",
   "metadata": {
    "execution": {
     "iopub.execute_input": "2022-06-20T19:08:35.566378Z",
     "iopub.status.busy": "2022-06-20T19:08:35.565859Z",
     "iopub.status.idle": "2022-06-20T19:08:35.574639Z",
     "shell.execute_reply": "2022-06-20T19:08:35.573931Z"
    },
    "papermill": {
     "duration": 0.052154,
     "end_time": "2022-06-20T19:08:35.577457",
     "exception": false,
     "start_time": "2022-06-20T19:08:35.525303",
     "status": "completed"
    },
    "tags": []
   },
   "outputs": [
    {
     "name": "stdout",
     "output_type": "stream",
     "text": [
      "     sepal_length  sepal_width  petal_length  petal_width\n",
      "7        0.657498     0.480360      0.412282     0.742948\n",
      "24       0.627176     0.480360      0.472926     0.742948\n",
      "27       0.687821     0.495521      0.412282     0.742948\n",
      "122      1.066847     0.389393      1.200657     1.015847\n",
      "146      0.854592     0.343910      0.942919     1.000685\n",
      "53       0.733304     0.313588      0.791308     0.909719\n",
      "45       0.627176     0.419715      0.397121     0.758109\n",
      "22       0.596854     0.510682      0.336477     0.742948\n",
      "114      0.778787     0.389393      0.958080     1.076491\n",
      "26       0.657498     0.480360      0.427443     0.773270\n",
      "42       0.566532     0.450037      0.381960     0.742948\n",
      "80       0.733304     0.328749      0.760986     0.879397\n",
      "133      0.854592     0.389393      0.958080     0.940041\n",
      "64       0.748465     0.404554      0.730664     0.909719\n",
      "73       0.824270     0.389393      0.897436     0.894558\n",
      "93       0.657498     0.313588      0.685181     0.864236\n",
      "16       0.718143     0.556165      0.381960     0.773270\n",
      "56       0.854592     0.465199      0.897436     0.955202\n",
      "100      0.854592     0.465199      1.094529     1.091652\n",
      "8        0.566532     0.404554      0.397121     0.742948\n",
      "91       0.824270     0.419715      0.882275     0.924880\n",
      "39       0.672660     0.480360      0.412282     0.742948\n",
      "148      0.839431     0.480360      1.003563     1.061330\n",
      "86       0.915236     0.434876      0.897436     0.940041\n",
      "120      0.945558     0.450037      1.049046     1.061330\n",
      "33       0.733304     0.601648      0.397121     0.742948\n",
      "147      0.884914     0.419715      0.973241     1.015847\n",
      "92       0.778787     0.359071      0.791308     0.894558\n",
      "85       0.809109     0.480360      0.867114     0.955202\n",
      "107      1.006203     0.404554      1.140013     0.985524\n",
      "78       0.809109     0.404554      0.867114     0.940041\n",
      "18       0.763626     0.541004      0.442604     0.758109\n",
      "47       0.596854     0.450037      0.397121     0.742948\n",
      "52       0.945558     0.434876      0.927758     0.940041\n",
      "46       0.672660     0.541004      0.427443     0.742948\n",
      "2        0.612015     0.450037      0.381960     0.742948\n",
      "65       0.915236     0.434876      0.851953     0.924880\n",
      "10       0.718143     0.525843      0.412282     0.742948\n",
      "134      0.824270     0.359071      1.033885     0.924880\n",
      "109      0.991042     0.510682      1.109691     1.091652\n",
      "61       0.793948     0.419715      0.821631     0.940041\n",
      "112      0.930397     0.419715      1.018724     1.031008\n",
      "63       0.824270     0.404554      0.897436     0.924880\n",
      "75       0.900075     0.419715      0.851953     0.924880\n",
      "125      0.991042     0.450037      1.094529     0.985524\n"
     ]
    }
   ],
   "source": [
    " y_pred = model.intercept_  * x_sepal_test+ model.coef_\n",
    "print(y_pred)"
   ]
  },
  {
   "cell_type": "code",
   "execution_count": 46,
   "id": "5f175c58",
   "metadata": {
    "execution": {
     "iopub.execute_input": "2022-06-20T19:08:35.658958Z",
     "iopub.status.busy": "2022-06-20T19:08:35.658627Z",
     "iopub.status.idle": "2022-06-20T19:08:35.664376Z",
     "shell.execute_reply": "2022-06-20T19:08:35.663749Z"
    },
    "papermill": {
     "duration": 0.049373,
     "end_time": "2022-06-20T19:08:35.667013",
     "exception": false,
     "start_time": "2022-06-20T19:08:35.617640",
     "status": "completed"
    },
    "tags": []
   },
   "outputs": [
    {
     "name": "stdout",
     "output_type": "stream",
     "text": [
      "[-0.05073124  0.04332611 -0.0743537   1.94287257  1.70864814  1.1836732\n",
      "  0.03620202 -0.10996593  2.12318973  0.11028048 -0.02034872  1.00066323\n",
      "  1.43154971  1.07860153  1.1639264   0.89075628 -0.0029592   1.41130763\n",
      "  2.2929967   0.00867278  1.28094162 -0.06078666  2.04609564  1.30684664\n",
      "  2.03819082 -0.14758796  1.77921498  1.07170952  1.40098902  1.76311103\n",
      "  1.34728458 -0.02692988 -0.02197293  1.32370905 -0.05634653 -0.05051498\n",
      "  1.18012421 -0.10148779  1.47985439  2.21044966  1.2983685   1.87577114\n",
      "  1.30293987  1.19369126  1.7071717 ]\n"
     ]
    }
   ],
   "source": [
    "y_pred = model.predict(x_sepal_test)\n",
    "print(y_pred)"
   ]
  },
  {
   "cell_type": "code",
   "execution_count": 47,
   "id": "1204254e",
   "metadata": {
    "execution": {
     "iopub.execute_input": "2022-06-20T19:08:35.748544Z",
     "iopub.status.busy": "2022-06-20T19:08:35.747882Z",
     "iopub.status.idle": "2022-06-20T19:08:35.761629Z",
     "shell.execute_reply": "2022-06-20T19:08:35.760850Z"
    },
    "papermill": {
     "duration": 0.055964,
     "end_time": "2022-06-20T19:08:35.763175",
     "exception": false,
     "start_time": "2022-06-20T19:08:35.707211",
     "status": "completed"
    },
    "tags": []
   },
   "outputs": [
    {
     "data": {
      "text/html": [
       "<div>\n",
       "<style scoped>\n",
       "    .dataframe tbody tr th:only-of-type {\n",
       "        vertical-align: middle;\n",
       "    }\n",
       "\n",
       "    .dataframe tbody tr th {\n",
       "        vertical-align: top;\n",
       "    }\n",
       "\n",
       "    .dataframe thead th {\n",
       "        text-align: right;\n",
       "    }\n",
       "</style>\n",
       "<table border=\"1\" class=\"dataframe\">\n",
       "  <thead>\n",
       "    <tr style=\"text-align: right;\">\n",
       "      <th></th>\n",
       "      <th>Actual</th>\n",
       "      <th>Predicted</th>\n",
       "    </tr>\n",
       "  </thead>\n",
       "  <tbody>\n",
       "    <tr>\n",
       "      <th>7</th>\n",
       "      <td>0</td>\n",
       "      <td>-0.050731</td>\n",
       "    </tr>\n",
       "    <tr>\n",
       "      <th>24</th>\n",
       "      <td>0</td>\n",
       "      <td>0.043326</td>\n",
       "    </tr>\n",
       "    <tr>\n",
       "      <th>27</th>\n",
       "      <td>0</td>\n",
       "      <td>-0.074354</td>\n",
       "    </tr>\n",
       "    <tr>\n",
       "      <th>122</th>\n",
       "      <td>2</td>\n",
       "      <td>1.942873</td>\n",
       "    </tr>\n",
       "    <tr>\n",
       "      <th>146</th>\n",
       "      <td>2</td>\n",
       "      <td>1.708648</td>\n",
       "    </tr>\n",
       "    <tr>\n",
       "      <th>53</th>\n",
       "      <td>1</td>\n",
       "      <td>1.183673</td>\n",
       "    </tr>\n",
       "    <tr>\n",
       "      <th>45</th>\n",
       "      <td>0</td>\n",
       "      <td>0.036202</td>\n",
       "    </tr>\n",
       "    <tr>\n",
       "      <th>22</th>\n",
       "      <td>0</td>\n",
       "      <td>-0.109966</td>\n",
       "    </tr>\n",
       "    <tr>\n",
       "      <th>114</th>\n",
       "      <td>2</td>\n",
       "      <td>2.123190</td>\n",
       "    </tr>\n",
       "    <tr>\n",
       "      <th>26</th>\n",
       "      <td>0</td>\n",
       "      <td>0.110280</td>\n",
       "    </tr>\n",
       "    <tr>\n",
       "      <th>42</th>\n",
       "      <td>0</td>\n",
       "      <td>-0.020349</td>\n",
       "    </tr>\n",
       "    <tr>\n",
       "      <th>80</th>\n",
       "      <td>1</td>\n",
       "      <td>1.000663</td>\n",
       "    </tr>\n",
       "    <tr>\n",
       "      <th>133</th>\n",
       "      <td>2</td>\n",
       "      <td>1.431550</td>\n",
       "    </tr>\n",
       "    <tr>\n",
       "      <th>64</th>\n",
       "      <td>1</td>\n",
       "      <td>1.078602</td>\n",
       "    </tr>\n",
       "    <tr>\n",
       "      <th>73</th>\n",
       "      <td>1</td>\n",
       "      <td>1.163926</td>\n",
       "    </tr>\n",
       "    <tr>\n",
       "      <th>93</th>\n",
       "      <td>1</td>\n",
       "      <td>0.890756</td>\n",
       "    </tr>\n",
       "    <tr>\n",
       "      <th>16</th>\n",
       "      <td>0</td>\n",
       "      <td>-0.002959</td>\n",
       "    </tr>\n",
       "    <tr>\n",
       "      <th>56</th>\n",
       "      <td>1</td>\n",
       "      <td>1.411308</td>\n",
       "    </tr>\n",
       "    <tr>\n",
       "      <th>100</th>\n",
       "      <td>2</td>\n",
       "      <td>2.292997</td>\n",
       "    </tr>\n",
       "    <tr>\n",
       "      <th>8</th>\n",
       "      <td>0</td>\n",
       "      <td>0.008673</td>\n",
       "    </tr>\n",
       "    <tr>\n",
       "      <th>91</th>\n",
       "      <td>1</td>\n",
       "      <td>1.280942</td>\n",
       "    </tr>\n",
       "    <tr>\n",
       "      <th>39</th>\n",
       "      <td>0</td>\n",
       "      <td>-0.060787</td>\n",
       "    </tr>\n",
       "    <tr>\n",
       "      <th>148</th>\n",
       "      <td>2</td>\n",
       "      <td>2.046096</td>\n",
       "    </tr>\n",
       "    <tr>\n",
       "      <th>86</th>\n",
       "      <td>1</td>\n",
       "      <td>1.306847</td>\n",
       "    </tr>\n",
       "    <tr>\n",
       "      <th>120</th>\n",
       "      <td>2</td>\n",
       "      <td>2.038191</td>\n",
       "    </tr>\n",
       "    <tr>\n",
       "      <th>33</th>\n",
       "      <td>0</td>\n",
       "      <td>-0.147588</td>\n",
       "    </tr>\n",
       "    <tr>\n",
       "      <th>147</th>\n",
       "      <td>2</td>\n",
       "      <td>1.779215</td>\n",
       "    </tr>\n",
       "    <tr>\n",
       "      <th>92</th>\n",
       "      <td>1</td>\n",
       "      <td>1.071710</td>\n",
       "    </tr>\n",
       "    <tr>\n",
       "      <th>85</th>\n",
       "      <td>1</td>\n",
       "      <td>1.400989</td>\n",
       "    </tr>\n",
       "    <tr>\n",
       "      <th>107</th>\n",
       "      <td>2</td>\n",
       "      <td>1.763111</td>\n",
       "    </tr>\n",
       "    <tr>\n",
       "      <th>78</th>\n",
       "      <td>1</td>\n",
       "      <td>1.347285</td>\n",
       "    </tr>\n",
       "    <tr>\n",
       "      <th>18</th>\n",
       "      <td>0</td>\n",
       "      <td>-0.026930</td>\n",
       "    </tr>\n",
       "    <tr>\n",
       "      <th>47</th>\n",
       "      <td>0</td>\n",
       "      <td>-0.021973</td>\n",
       "    </tr>\n",
       "    <tr>\n",
       "      <th>52</th>\n",
       "      <td>1</td>\n",
       "      <td>1.323709</td>\n",
       "    </tr>\n",
       "    <tr>\n",
       "      <th>46</th>\n",
       "      <td>0</td>\n",
       "      <td>-0.056347</td>\n",
       "    </tr>\n",
       "    <tr>\n",
       "      <th>2</th>\n",
       "      <td>0</td>\n",
       "      <td>-0.050515</td>\n",
       "    </tr>\n",
       "    <tr>\n",
       "      <th>65</th>\n",
       "      <td>1</td>\n",
       "      <td>1.180124</td>\n",
       "    </tr>\n",
       "    <tr>\n",
       "      <th>10</th>\n",
       "      <td>0</td>\n",
       "      <td>-0.101488</td>\n",
       "    </tr>\n",
       "    <tr>\n",
       "      <th>134</th>\n",
       "      <td>2</td>\n",
       "      <td>1.479854</td>\n",
       "    </tr>\n",
       "    <tr>\n",
       "      <th>109</th>\n",
       "      <td>2</td>\n",
       "      <td>2.210450</td>\n",
       "    </tr>\n",
       "    <tr>\n",
       "      <th>61</th>\n",
       "      <td>1</td>\n",
       "      <td>1.298369</td>\n",
       "    </tr>\n",
       "    <tr>\n",
       "      <th>112</th>\n",
       "      <td>2</td>\n",
       "      <td>1.875771</td>\n",
       "    </tr>\n",
       "    <tr>\n",
       "      <th>63</th>\n",
       "      <td>1</td>\n",
       "      <td>1.302940</td>\n",
       "    </tr>\n",
       "    <tr>\n",
       "      <th>75</th>\n",
       "      <td>1</td>\n",
       "      <td>1.193691</td>\n",
       "    </tr>\n",
       "    <tr>\n",
       "      <th>125</th>\n",
       "      <td>2</td>\n",
       "      <td>1.707172</td>\n",
       "    </tr>\n",
       "  </tbody>\n",
       "</table>\n",
       "</div>"
      ],
      "text/plain": [
       "     Actual  Predicted\n",
       "7         0  -0.050731\n",
       "24        0   0.043326\n",
       "27        0  -0.074354\n",
       "122       2   1.942873\n",
       "146       2   1.708648\n",
       "53        1   1.183673\n",
       "45        0   0.036202\n",
       "22        0  -0.109966\n",
       "114       2   2.123190\n",
       "26        0   0.110280\n",
       "42        0  -0.020349\n",
       "80        1   1.000663\n",
       "133       2   1.431550\n",
       "64        1   1.078602\n",
       "73        1   1.163926\n",
       "93        1   0.890756\n",
       "16        0  -0.002959\n",
       "56        1   1.411308\n",
       "100       2   2.292997\n",
       "8         0   0.008673\n",
       "91        1   1.280942\n",
       "39        0  -0.060787\n",
       "148       2   2.046096\n",
       "86        1   1.306847\n",
       "120       2   2.038191\n",
       "33        0  -0.147588\n",
       "147       2   1.779215\n",
       "92        1   1.071710\n",
       "85        1   1.400989\n",
       "107       2   1.763111\n",
       "78        1   1.347285\n",
       "18        0  -0.026930\n",
       "47        0  -0.021973\n",
       "52        1   1.323709\n",
       "46        0  -0.056347\n",
       "2         0  -0.050515\n",
       "65        1   1.180124\n",
       "10        0  -0.101488\n",
       "134       2   1.479854\n",
       "109       2   2.210450\n",
       "61        1   1.298369\n",
       "112       2   1.875771\n",
       "63        1   1.302940\n",
       "75        1   1.193691\n",
       "125       2   1.707172"
      ]
     },
     "execution_count": 47,
     "metadata": {},
     "output_type": "execute_result"
    }
   ],
   "source": [
    "dataset_updated = pd.DataFrame({'Actual': y_species_test, 'Predicted': y_pred})\n",
    "dataset_updated"
   ]
  },
  {
   "cell_type": "code",
   "execution_count": null,
   "id": "e3e69bc8",
   "metadata": {
    "papermill": {
     "duration": 0.025529,
     "end_time": "2022-06-20T19:08:35.814892",
     "exception": false,
     "start_time": "2022-06-20T19:08:35.789363",
     "status": "completed"
    },
    "tags": []
   },
   "outputs": [],
   "source": []
  },
  {
   "cell_type": "code",
   "execution_count": 48,
   "id": "ecdba775",
   "metadata": {
    "execution": {
     "iopub.execute_input": "2022-06-20T19:08:35.869239Z",
     "iopub.status.busy": "2022-06-20T19:08:35.868480Z",
     "iopub.status.idle": "2022-06-20T19:08:35.987900Z",
     "shell.execute_reply": "2022-06-20T19:08:35.987283Z"
    },
    "papermill": {
     "duration": 0.149809,
     "end_time": "2022-06-20T19:08:35.990331",
     "exception": false,
     "start_time": "2022-06-20T19:08:35.840522",
     "status": "completed"
    },
    "tags": []
   },
   "outputs": [
    {
     "data": {
      "image/png": "[encoded data removed]",
      "text/plain": [
       "<Figure size 360x360 with 1 Axes>"
      ]
     },
     "metadata": {
      "needs_background": "light"
     },
     "output_type": "display_data"
    }
   ],
   "source": [
    "\n",
    "plt.plot(y_pred)\n",
    "plt.xlabel(\"predicted value of sepal \")\n",
    "plt.ylabel(\"according to the species type \")\n",
    "plt.rcParams[\"figure.figsize\"]=(4,8)\n"
   ]
  },
  {
   "cell_type": "code",
   "execution_count": 49,
   "id": "112532e3",
   "metadata": {
    "execution": {
     "iopub.execute_input": "2022-06-20T19:08:36.077140Z",
     "iopub.status.busy": "2022-06-20T19:08:36.076731Z",
     "iopub.status.idle": "2022-06-20T19:08:36.229518Z",
     "shell.execute_reply": "2022-06-20T19:08:36.228882Z"
    },
    "papermill": {
     "duration": 0.196813,
     "end_time": "2022-06-20T19:08:36.231634",
     "exception": false,
     "start_time": "2022-06-20T19:08:36.034821",
     "status": "completed"
    },
    "tags": []
   },
   "outputs": [
    {
     "data": {
      "text/plain": [
       "(array([15.,  1.,  0.,  0.,  3.,  9.,  6.,  4.,  4.,  3.]),\n",
       " array([-0.14758796,  0.09647051,  0.34052897,  0.58458744,  0.8286459 ,\n",
       "         1.07270437,  1.31676284,  1.5608213 ,  1.80487977,  2.04893824,\n",
       "         2.2929967 ]),\n",
       " <BarContainer object of 10 artists>)"
      ]
     },
     "execution_count": 49,
     "metadata": {},
     "output_type": "execute_result"
    },
    {
     "data": {
      "image/png": "[encoded data removed]",
      "text/plain": [
       "<Figure size 288x576 with 1 Axes>"
      ]
     },
     "metadata": {
      "needs_background": "light"
     },
     "output_type": "display_data"
    }
   ],
   "source": [
    "plt.hist(y_pred)"
   ]
  },
  {
   "cell_type": "markdown",
   "id": "1d4b8857",
   "metadata": {
    "papermill": {
     "duration": 0.04065,
     "end_time": "2022-06-20T19:08:36.313668",
     "exception": false,
     "start_time": "2022-06-20T19:08:36.273018",
     "status": "completed"
    },
    "tags": []
   },
   "source": []
  },
  {
   "cell_type": "markdown",
   "id": "76400a4e",
   "metadata": {
    "papermill": {
     "duration": 0.040642,
     "end_time": "2022-06-20T19:08:36.395728",
     "exception": false,
     "start_time": "2022-06-20T19:08:36.355086",
     "status": "completed"
    },
    "tags": []
   },
   "source": [
    "**2 logistic regression**"
   ]
  },
  {
   "cell_type": "code",
   "execution_count": 50,
   "id": "24bfa510",
   "metadata": {
    "execution": {
     "iopub.execute_input": "2022-06-20T19:08:36.480907Z",
     "iopub.status.busy": "2022-06-20T19:08:36.480243Z",
     "iopub.status.idle": "2022-06-20T19:08:36.510205Z",
     "shell.execute_reply": "2022-06-20T19:08:36.509523Z"
    },
    "papermill": {
     "duration": 0.074737,
     "end_time": "2022-06-20T19:08:36.512270",
     "exception": false,
     "start_time": "2022-06-20T19:08:36.437533",
     "status": "completed"
    },
    "tags": []
   },
   "outputs": [
    {
     "data": {
      "text/plain": [
       "LogisticRegression(max_iter=130)"
      ]
     },
     "execution_count": 50,
     "metadata": {},
     "output_type": "execute_result"
    }
   ],
   "source": [
    "from sklearn import linear_model\n",
    "logistic_model=linear_model.LogisticRegression(max_iter=130)\n",
    "logistic_model.fit(x_sepal_train,y_species_train)"
   ]
  },
  {
   "cell_type": "code",
   "execution_count": 51,
   "id": "60627146",
   "metadata": {
    "execution": {
     "iopub.execute_input": "2022-06-20T19:08:36.597433Z",
     "iopub.status.busy": "2022-06-20T19:08:36.596951Z",
     "iopub.status.idle": "2022-06-20T19:08:36.601673Z",
     "shell.execute_reply": "2022-06-20T19:08:36.601191Z"
    },
    "papermill": {
     "duration": 0.049192,
     "end_time": "2022-06-20T19:08:36.603532",
     "exception": false,
     "start_time": "2022-06-20T19:08:36.554340",
     "status": "completed"
    },
    "tags": []
   },
   "outputs": [],
   "source": [
    "\n",
    "y_species_logistic_predicted=logistic_model.predict(x_sepal_test)\n",
    "\n",
    "#species iris senota"
   ]
  },
  {
   "cell_type": "code",
   "execution_count": 52,
   "id": "71f557c6",
   "metadata": {
    "execution": {
     "iopub.execute_input": "2022-06-20T19:08:36.689279Z",
     "iopub.status.busy": "2022-06-20T19:08:36.688767Z",
     "iopub.status.idle": "2022-06-20T19:08:36.694939Z",
     "shell.execute_reply": "2022-06-20T19:08:36.694230Z"
    },
    "papermill": {
     "duration": 0.051161,
     "end_time": "2022-06-20T19:08:36.696942",
     "exception": false,
     "start_time": "2022-06-20T19:08:36.645781",
     "status": "completed"
    },
    "tags": []
   },
   "outputs": [
    {
     "name": "stdout",
     "output_type": "stream",
     "text": [
      "Accuracy:  100.0  %\n"
     ]
    }
   ],
   "source": [
    "sc_logr = round(logistic_model.score(x_sepal_test, y_species_test) * 100,2)\n",
    "print(\"Accuracy: \", str(sc_logr) ,  \" %\")"
   ]
  },
  {
   "cell_type": "code",
   "execution_count": 53,
   "id": "03f88637",
   "metadata": {
    "execution": {
     "iopub.execute_input": "2022-06-20T19:08:36.781952Z",
     "iopub.status.busy": "2022-06-20T19:08:36.781275Z",
     "iopub.status.idle": "2022-06-20T19:08:36.787602Z",
     "shell.execute_reply": "2022-06-20T19:08:36.786935Z"
    },
    "papermill": {
     "duration": 0.050788,
     "end_time": "2022-06-20T19:08:36.789374",
     "exception": false,
     "start_time": "2022-06-20T19:08:36.738586",
     "status": "completed"
    },
    "tags": []
   },
   "outputs": [
    {
     "data": {
      "text/plain": [
       "array([[16,  0,  0],\n",
       "       [ 0, 16,  0],\n",
       "       [ 0,  0, 13]])"
      ]
     },
     "execution_count": 53,
     "metadata": {},
     "output_type": "execute_result"
    }
   ],
   "source": [
    "from sklearn.metrics import confusion_matrix\n",
    "cm=confusion_matrix(y_species_test,y_species_test)\n",
    "cm"
   ]
  },
  {
   "cell_type": "code",
   "execution_count": 54,
   "id": "fe354ae8",
   "metadata": {
    "execution": {
     "iopub.execute_input": "2022-06-20T19:08:36.875520Z",
     "iopub.status.busy": "2022-06-20T19:08:36.875005Z",
     "iopub.status.idle": "2022-06-20T19:08:37.083827Z",
     "shell.execute_reply": "2022-06-20T19:08:37.083047Z"
    },
    "papermill": {
     "duration": 0.253846,
     "end_time": "2022-06-20T19:08:37.085442",
     "exception": false,
     "start_time": "2022-06-20T19:08:36.831596",
     "status": "completed"
    },
    "tags": []
   },
   "outputs": [
    {
     "data": {
      "text/plain": [
       "Text(15.0, 0.5, 'species')"
      ]
     },
     "execution_count": 54,
     "metadata": {},
     "output_type": "execute_result"
    },
    {
     "data": {
      "image/png": "[encoded data removed]",
      "text/plain": [
       "<Figure size 288x576 with 2 Axes>"
      ]
     },
     "metadata": {
      "needs_background": "light"
     },
     "output_type": "display_data"
    }
   ],
   "source": [
    "sns.heatmap(cm,annot=True,cmap='BuPu_r')\n",
    "plt.rcParams[\"figure.figsize\"]=(10,2)\n",
    "plt.xlabel('predicted value')\n",
    "plt.ylabel('species')"
   ]
  },
  {
   "cell_type": "markdown",
   "id": "bd32fa76",
   "metadata": {
    "papermill": {
     "duration": 0.026504,
     "end_time": "2022-06-20T19:08:37.139301",
     "exception": false,
     "start_time": "2022-06-20T19:08:37.112797",
     "status": "completed"
    },
    "tags": []
   },
   "source": [
    "# KNN MODEL 3"
   ]
  },
  {
   "cell_type": "code",
   "execution_count": 55,
   "id": "43e91853",
   "metadata": {
    "execution": {
     "iopub.execute_input": "2022-06-20T19:08:37.194882Z",
     "iopub.status.busy": "2022-06-20T19:08:37.194305Z",
     "iopub.status.idle": "2022-06-20T19:08:37.205399Z",
     "shell.execute_reply": "2022-06-20T19:08:37.204820Z"
    },
    "papermill": {
     "duration": 0.040763,
     "end_time": "2022-06-20T19:08:37.206958",
     "exception": false,
     "start_time": "2022-06-20T19:08:37.166195",
     "status": "completed"
    },
    "tags": []
   },
   "outputs": [],
   "source": [
    "# Fitting clasifier to the Training set\n",
    "# Loading libraries\n",
    "from sklearn.neighbors import KNeighborsClassifier\n",
    "from sklearn.metrics import confusion_matrix, accuracy_score\n",
    "from sklearn.model_selection import cross_val_score\n",
    "\n",
    "# Instantiate learning model (k = 3)\n",
    "knn_model = KNeighborsClassifier(n_neighbors=3)\n",
    "\n",
    "# Fitting the model\n",
    "knn_model.fit(x_sepal_train, y_species_train)\n",
    "\n",
    "# Predicting the Test set results\n",
    "y_knn_pred = knn_model.predict(x_sepal_test)"
   ]
  },
  {
   "cell_type": "code",
   "execution_count": 56,
   "id": "67dc0d99",
   "metadata": {
    "execution": {
     "iopub.execute_input": "2022-06-20T19:08:37.263342Z",
     "iopub.status.busy": "2022-06-20T19:08:37.262771Z",
     "iopub.status.idle": "2022-06-20T19:08:37.271638Z",
     "shell.execute_reply": "2022-06-20T19:08:37.270762Z"
    },
    "papermill": {
     "duration": 0.039228,
     "end_time": "2022-06-20T19:08:37.273445",
     "exception": false,
     "start_time": "2022-06-20T19:08:37.234217",
     "status": "completed"
    },
    "tags": []
   },
   "outputs": [
    {
     "name": "stdout",
     "output_type": "stream",
     "text": [
      "              precision    recall  f1-score   support\n",
      "\n",
      "           0       1.00      1.00      1.00        16\n",
      "           1       0.94      0.94      0.94        16\n",
      "           2       0.92      0.92      0.92        13\n",
      "\n",
      "    accuracy                           0.96        45\n",
      "   macro avg       0.95      0.95      0.95        45\n",
      "weighted avg       0.96      0.96      0.96        45\n",
      "\n"
     ]
    }
   ],
   "source": [
    "# A detailed classification report\n",
    "from sklearn.metrics import classification_report\n",
    "print(classification_report(y_species_test, y_knn_pred))\n"
   ]
  },
  {
   "cell_type": "code",
   "execution_count": 57,
   "id": "4f035dab",
   "metadata": {
    "execution": {
     "iopub.execute_input": "2022-06-20T19:08:37.329856Z",
     "iopub.status.busy": "2022-06-20T19:08:37.329249Z",
     "iopub.status.idle": "2022-06-20T19:08:37.335772Z",
     "shell.execute_reply": "2022-06-20T19:08:37.335172Z"
    },
    "papermill": {
     "duration": 0.036277,
     "end_time": "2022-06-20T19:08:37.337260",
     "exception": false,
     "start_time": "2022-06-20T19:08:37.300983",
     "status": "completed"
    },
    "tags": []
   },
   "outputs": [
    {
     "data": {
      "text/plain": [
       "array([[16,  0,  0],\n",
       "       [ 0, 15,  1],\n",
       "       [ 0,  1, 12]])"
      ]
     },
     "execution_count": 57,
     "metadata": {},
     "output_type": "execute_result"
    }
   ],
   "source": [
    "knn_cm=confusion_matrix(y_species_test, y_knn_pred)\n",
    "knn_cm"
   ]
  },
  {
   "cell_type": "code",
   "execution_count": 58,
   "id": "df17e2c2",
   "metadata": {
    "execution": {
     "iopub.execute_input": "2022-06-20T19:08:37.394250Z",
     "iopub.status.busy": "2022-06-20T19:08:37.393622Z",
     "iopub.status.idle": "2022-06-20T19:08:37.399388Z",
     "shell.execute_reply": "2022-06-20T19:08:37.398543Z"
    },
    "papermill": {
     "duration": 0.036118,
     "end_time": "2022-06-20T19:08:37.400928",
     "exception": false,
     "start_time": "2022-06-20T19:08:37.364810",
     "status": "completed"
    },
    "tags": []
   },
   "outputs": [
    {
     "name": "stdout",
     "output_type": "stream",
     "text": [
      "Accuracy of our model is equal 95.56 %.\n"
     ]
    }
   ],
   "source": [
    "accuracy = accuracy_score(y_species_test, y_knn_pred)*100\n",
    "print('Accuracy of our model is equal ' + str(round(accuracy, 2)) + ' %.')"
   ]
  },
  {
   "cell_type": "code",
   "execution_count": 59,
   "id": "5f9ffed5",
   "metadata": {
    "execution": {
     "iopub.execute_input": "2022-06-20T19:08:37.457492Z",
     "iopub.status.busy": "2022-06-20T19:08:37.457089Z",
     "iopub.status.idle": "2022-06-20T19:08:37.652540Z",
     "shell.execute_reply": "2022-06-20T19:08:37.651931Z"
    },
    "papermill": {
     "duration": 0.225693,
     "end_time": "2022-06-20T19:08:37.654170",
     "exception": false,
     "start_time": "2022-06-20T19:08:37.428477",
     "status": "completed"
    },
    "tags": []
   },
   "outputs": [
    {
     "data": {
      "text/plain": [
       "Text(69.0, 0.5, 'species')"
      ]
     },
     "execution_count": 59,
     "metadata": {},
     "output_type": "execute_result"
    },
    {
     "data": {
      "image/png": "[encoded data removed]",
      "text/plain": [
       "<Figure size 720x144 with 2 Axes>"
      ]
     },
     "metadata": {
      "needs_background": "light"
     },
     "output_type": "display_data"
    }
   ],
   "source": [
    "sns.heatmap(knn_cm,annot=True,cmap='BuPu_r')\n",
    "plt.rcParams[\"figure.figsize\"]=(10,2)\n",
    "plt.xlabel('predicted value')\n",
    "plt.ylabel('species')"
   ]
  },
  {
   "cell_type": "code",
   "execution_count": 60,
   "id": "ae0835dc",
   "metadata": {
    "execution": {
     "iopub.execute_input": "2022-06-20T19:08:37.713012Z",
     "iopub.status.busy": "2022-06-20T19:08:37.712474Z",
     "iopub.status.idle": "2022-06-20T19:08:38.149803Z",
     "shell.execute_reply": "2022-06-20T19:08:38.149032Z"
    },
    "papermill": {
     "duration": 0.468346,
     "end_time": "2022-06-20T19:08:38.151642",
     "exception": false,
     "start_time": "2022-06-20T19:08:37.683296",
     "status": "completed"
    },
    "tags": []
   },
   "outputs": [
    {
     "name": "stderr",
     "output_type": "stream",
     "text": [
      "/opt/conda/lib/python3.7/site-packages/seaborn/_decorators.py:43: FutureWarning: Pass the following variables as keyword args: x, y. From version 0.12, the only valid positional argument will be `data`, and passing other arguments without an explicit keyword will result in an error or misinterpretation.\n",
      "  FutureWarning\n"
     ]
    },
    {
     "data": {
      "text/plain": [
       "<AxesSubplot:xlabel='Algorithms', ylabel='Accuracy score'>"
      ]
     },
     "execution_count": 60,
     "metadata": {},
     "output_type": "execute_result"
    },
    {
     "data": {
      "image/png": "[encoded data removed]",
      "text/plain": [
       "<Figure size 792x432 with 1 Axes>"
      ]
     },
     "metadata": {},
     "output_type": "display_data"
    }
   ],
   "source": [
    "scores_plt = [sc_lr,sc_logr,accuracy]\n",
    "algorithms = [\"Linear Regression\",\"Logistic Regression\",\"KNN\"]\n",
    "sns.set(rc={'figure.figsize':(11,6)})\n",
    "plt.xlabel(\"Algorithms\")\n",
    "plt.ylabel(\"Accuracy score\")\n",
    "\n",
    "sns.barplot(algorithms,scores_plt)"
   ]
  },
  {
   "cell_type": "markdown",
   "id": "c0f890f9",
   "metadata": {
    "papermill": {
     "duration": 0.044844,
     "end_time": "2022-06-20T19:08:38.226896",
     "exception": false,
     "start_time": "2022-06-20T19:08:38.182052",
     "status": "completed"
    },
    "tags": []
   },
   "source": [
    "# Evaluation"
   ]
  },
  {
   "cell_type": "markdown",
   "id": "3b5ee1ce",
   "metadata": {
    "papermill": {
     "duration": 0.043268,
     "end_time": "2022-06-20T19:08:38.314145",
     "exception": false,
     "start_time": "2022-06-20T19:08:38.270877",
     "status": "completed"
    },
    "tags": []
   },
   "source": [
    "**knn model**"
   ]
  },
  {
   "cell_type": "code",
   "execution_count": 61,
   "id": "9fb293a8",
   "metadata": {
    "execution": {
     "iopub.execute_input": "2022-06-20T19:08:38.406047Z",
     "iopub.status.busy": "2022-06-20T19:08:38.405395Z",
     "iopub.status.idle": "2022-06-20T19:08:38.415665Z",
     "shell.execute_reply": "2022-06-20T19:08:38.414659Z"
    },
    "papermill": {
     "duration": 0.057788,
     "end_time": "2022-06-20T19:08:38.417623",
     "exception": false,
     "start_time": "2022-06-20T19:08:38.359835",
     "status": "completed"
    },
    "tags": []
   },
   "outputs": [
    {
     "name": "stdout",
     "output_type": "stream",
     "text": [
      "Prediction of Species: [0 1 2]\n"
     ]
    },
    {
     "name": "stderr",
     "output_type": "stream",
     "text": [
      "/opt/conda/lib/python3.7/site-packages/sklearn/base.py:451: UserWarning: X does not have valid feature names, but KNeighborsClassifier was fitted with feature names\n",
      "  \"X does not have valid feature names, but\"\n"
     ]
    }
   ],
   "source": [
    "X_new = np.array([[3, 2, 1, 0.2], [  4.9, 2.2, 3.8, 1.1 ], [  5.3, 2.5, 4.6, 1.9 ]])\n",
    "#Prediction of the species from the input vector\n",
    "prediction = knn_model.predict(X_new)\n",
    "print(\"Prediction of Species: {}\".format(prediction))"
   ]
  },
  {
   "cell_type": "markdown",
   "id": "00cb6485",
   "metadata": {
    "papermill": {
     "duration": 0.028351,
     "end_time": "2022-06-20T19:08:38.475436",
     "exception": false,
     "start_time": "2022-06-20T19:08:38.447085",
     "status": "completed"
    },
    "tags": []
   },
   "source": [
    "**logistic model**"
   ]
  },
  {
   "cell_type": "code",
   "execution_count": 62,
   "id": "2411aa50",
   "metadata": {
    "execution": {
     "iopub.execute_input": "2022-06-20T19:08:38.533092Z",
     "iopub.status.busy": "2022-06-20T19:08:38.532726Z",
     "iopub.status.idle": "2022-06-20T19:08:38.540209Z",
     "shell.execute_reply": "2022-06-20T19:08:38.538761Z"
    },
    "papermill": {
     "duration": 0.039162,
     "end_time": "2022-06-20T19:08:38.542664",
     "exception": false,
     "start_time": "2022-06-20T19:08:38.503502",
     "status": "completed"
    },
    "tags": []
   },
   "outputs": [
    {
     "name": "stdout",
     "output_type": "stream",
     "text": [
      "Prediction of Species: [0 1 2]\n"
     ]
    },
    {
     "name": "stderr",
     "output_type": "stream",
     "text": [
      "/opt/conda/lib/python3.7/site-packages/sklearn/base.py:451: UserWarning: X does not have valid feature names, but LogisticRegression was fitted with feature names\n",
      "  \"X does not have valid feature names, but\"\n"
     ]
    }
   ],
   "source": [
    "X_new = np.array([[3, 2, 1, 0.2], [  4.9, 2.2, 3.8, 1.1 ], [  5.3, 2.5, 4.6, 1.9 ]])\n",
    "#Prediction of the species from the input vector\n",
    "prediction = logistic_model.predict(X_new)\n",
    "print(\"Prediction of Species: {}\".format(prediction))"
   ]
  },
  {
   "cell_type": "code",
   "execution_count": 63,
   "id": "90d6eb70",
   "metadata": {
    "execution": {
     "iopub.execute_input": "2022-06-20T19:08:38.603703Z",
     "iopub.status.busy": "2022-06-20T19:08:38.603346Z",
     "iopub.status.idle": "2022-06-20T19:08:38.608603Z",
     "shell.execute_reply": "2022-06-20T19:08:38.607863Z"
    },
    "papermill": {
     "duration": 0.038214,
     "end_time": "2022-06-20T19:08:38.610960",
     "exception": false,
     "start_time": "2022-06-20T19:08:38.572746",
     "status": "completed"
    },
    "tags": []
   },
   "outputs": [
    {
     "name": "stdout",
     "output_type": "stream",
     "text": [
      "Prediction of Species: [0]\n"
     ]
    },
    {
     "name": "stderr",
     "output_type": "stream",
     "text": [
      "/opt/conda/lib/python3.7/site-packages/sklearn/base.py:451: UserWarning: X does not have valid feature names, but LogisticRegression was fitted with feature names\n",
      "  \"X does not have valid feature names, but\"\n"
     ]
    }
   ],
   "source": [
    "X_new = np.array([[4.6,3.4, 1.4,0.3 ]])\n",
    "#Prediction of the species from the input vector\n",
    "prediction = logistic_model.predict(X_new)\n",
    "print(\"Prediction of Species: {}\".format(prediction))"
   ]
  },
  {
   "cell_type": "markdown",
   "id": "c6ffa21d",
   "metadata": {
    "papermill": {
     "duration": 0.028223,
     "end_time": "2022-06-20T19:08:38.668852",
     "exception": false,
     "start_time": "2022-06-20T19:08:38.640629",
     "status": "completed"
    },
    "tags": []
   },
   "source": [
    "# iris-setosa ==0\n",
    "# iris-versicolor ==1\n",
    "# iris-virginica ==2"
   ]
  }
 ],
 "metadata": {
  "kernelspec": {
   "display_name": "Python 3",
   "language": "python",
   "name": "python3"
  },
  "language_info": {
   "codemirror_mode": {
    "name": "ipython",
    "version": 3
   },
   "file_extension": ".py",
   "mimetype": "text/x-python",
   "name": "python",
   "nbconvert_exporter": "python",
   "pygments_lexer": "ipython3",
   "version": "3.7.12"
  },
  "papermill": {
   "default_parameters": {},
   "duration": 27.76407,
   "end_time": "2022-06-20T19:08:39.618602",
   "environment_variables": {},
   "exception": null,
   "input_path": "__notebook__.ipynb",
   "output_path": "__notebook__.ipynb",
   "parameters": {},
   "start_time": "2022-06-20T19:08:11.854532",
   "version": "2.3.4"
  }
 },
 "nbformat": 4,
 "nbformat_minor": 5
}
